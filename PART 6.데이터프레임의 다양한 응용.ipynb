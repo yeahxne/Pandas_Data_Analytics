{
 "cells": [
  {
   "cell_type": "markdown",
   "metadata": {},
   "source": [
    "### 1. 함수 매핑\n",
    "* 함수 매핑은 시리즈 또는 데이터프레임의 개별 원소를 특정 함수에 일대일 대응시키는 과정을 뜻한다.\n",
    "* 사용자가 직접 만든 함수(lambda 함수 포함)를 적요할 수 있기 때문에 판다스 기본 함수로 처리하기 어려운 복잡한 연산을 데이터프레임 등 판다스 객체에 적용하는 것이 가능하다."
   ]
  },
  {
   "cell_type": "markdown",
   "metadata": {},
   "source": [
    "#### 1-1. 개별 원소에 함수 매핑"
   ]
  },
  {
   "cell_type": "code",
   "execution_count": 2,
   "metadata": {},
   "outputs": [
    {
     "name": "stdout",
     "output_type": "stream",
     "text": [
      "    age     fare  ten\n",
      "0  22.0   7.2500   10\n",
      "1  38.0  71.2833   10\n",
      "2  26.0   7.9250   10\n",
      "3  35.0  53.1000   10\n",
      "4  35.0   8.0500   10\n"
     ]
    }
   ],
   "source": [
    "# 시리즈의 원소에 apply() 적용\n",
    "import seaborn as sns\n",
    "\n",
    "titanic = sns.load_dataset('titanic')\n",
    "df = titanic.loc[:, ['age','fare']]\n",
    "df['ten'] = 10\n",
    "print(df.head())"
   ]
  },
  {
   "cell_type": "code",
   "execution_count": 3,
   "metadata": {},
   "outputs": [
    {
     "name": "stdout",
     "output_type": "stream",
     "text": [
      "20\n",
      "20\n"
     ]
    }
   ],
   "source": [
    "# 사용자 함수 정의\n",
    "def add_10(n):\n",
    "    return n+10\n",
    "\n",
    "def add_two_obj(a,b):\n",
    "    return a+b\n",
    "\n",
    "print(add_10(10))\n",
    "print(add_two_obj(10,10))"
   ]
  },
  {
   "cell_type": "code",
   "execution_count": 7,
   "metadata": {},
   "outputs": [
    {
     "name": "stdout",
     "output_type": "stream",
     "text": [
      "0    32.0\n",
      "1    48.0\n",
      "2    36.0\n",
      "3    45.0\n",
      "4    45.0\n",
      "Name: age, dtype: float64\n",
      "\n",
      "\n",
      "0    32.0\n",
      "1    48.0\n",
      "2    36.0\n",
      "3    45.0\n",
      "4    45.0\n",
      "Name: age, dtype: float64\n",
      "\n",
      "\n",
      "0    32.0\n",
      "1    48.0\n",
      "2    36.0\n",
      "3    45.0\n",
      "4    45.0\n",
      "Name: age, dtype: float64\n"
     ]
    }
   ],
   "source": [
    "# 시리즈 객체에 적용\n",
    "sr1 = df['age'].apply(add_10)\n",
    "print(sr1.head())\n",
    "print('\\n')\n",
    "\n",
    "# 시리즈 객체와 숫자에 적용: 2개의 인수(시리즈+숫자)\n",
    "sr2 = df['age'].apply(add_two_obj, b=10)\n",
    "print(sr2.head())\n",
    "print('\\n')\n",
    "\n",
    "# lambda 함수 활용: 시리즈 객체에 적용\n",
    "sr3 = df['age'].apply(lambda x: add_10(x))\n",
    "print(sr3.head())"
   ]
  },
  {
   "cell_type": "code",
   "execution_count": 8,
   "metadata": {},
   "outputs": [
    {
     "name": "stdout",
     "output_type": "stream",
     "text": [
      "    age     fare\n",
      "0  22.0   7.2500\n",
      "1  38.0  71.2833\n",
      "2  26.0   7.9250\n",
      "3  35.0  53.1000\n",
      "4  35.0   8.0500\n",
      "\n",
      "\n",
      "    age     fare\n",
      "0  32.0  17.2500\n",
      "1  48.0  81.2833\n",
      "2  36.0  17.9250\n",
      "3  45.0  63.1000\n",
      "4  45.0  18.0500\n"
     ]
    }
   ],
   "source": [
    "# 데이터프레임 원소에 applymap() 적용\n",
    "# 데이터프레임의 개별 원소에 특정 함수를 매핑하려면, applymap() 메소드를 활용한다.\n",
    "import seaborn as sns\n",
    "\n",
    "titanic = sns.load_dataset('titanic')\n",
    "df = titanic.loc[:, ['age','fare']]\n",
    "print(df.head())\n",
    "print('\\n')\n",
    "\n",
    "# 사용자 함수 정의\n",
    "def add_10(n):    # 10을 더하는 함수\n",
    "    return n+10\n",
    "\n",
    "# 데이터프레임에 add_10() 함수를 매핑 적용\n",
    "df_map = df.applymap(add_10)\n",
    "print(df_map.head())"
   ]
  },
  {
   "cell_type": "markdown",
   "metadata": {},
   "source": [
    "#### 1-2. 시리즈 객체에 함수 매핑"
   ]
  },
  {
   "cell_type": "code",
   "execution_count": 10,
   "metadata": {},
   "outputs": [
    {
     "name": "stdout",
     "output_type": "stream",
     "text": [
      "    age     fare\n",
      "0  22.0   7.2500\n",
      "1  38.0  71.2833\n",
      "2  26.0   7.9250\n",
      "3  35.0  53.1000\n",
      "4  35.0   8.0500\n",
      "\n",
      "\n",
      "     age   fare\n",
      "0  False  False\n",
      "1  False  False\n",
      "2  False  False\n",
      "3  False  False\n",
      "4  False  False\n",
      "\n",
      "\n",
      "<class 'pandas.core.frame.DataFrame'>\n"
     ]
    }
   ],
   "source": [
    "# 데이터프레임에 apply(axis=0) 적용\n",
    "# 데이터프레임에 apply(axis=0) 메소드를 적용하면 모든 열을 하나씩 분리하여 매핑 함수의 인자로 각 열(시리즈)이 전달된다.\n",
    "import seaborn as sns\n",
    "\n",
    "titanic = sns.load_dataset('titanic')\n",
    "df = titanic.loc[:, ['age','fare']]\n",
    "print(df.head())\n",
    "print('\\n')\n",
    "\n",
    "def missing_value(series):\n",
    "    return series.isnull()    # 불린 시리즈를 반환\n",
    "\n",
    "# 데이터프레임에 apply 메소드를 적용\n",
    "result = df.apply(missing_value, axis=0)\n",
    "print(result.head())\n",
    "print('\\n')\n",
    "print(type(result))"
   ]
  },
  {
   "cell_type": "markdown",
   "metadata": {},
   "source": [
    "* 행은 사라지고 열 단위로 집계하고 싶은 경우 axis=0으로 지정한다.\n",
    "* 열은 사라지고 행 단위로 집계하고 싶은 경우 axis=1으로 지정한다."
   ]
  },
  {
   "cell_type": "code",
   "execution_count": 11,
   "metadata": {},
   "outputs": [
    {
     "name": "stdout",
     "output_type": "stream",
     "text": [
      "    age     fare\n",
      "0  22.0   7.2500\n",
      "1  38.0  71.2833\n",
      "2  26.0   7.9250\n",
      "3  35.0  53.1000\n",
      "4  35.0   8.0500\n",
      "\n",
      "\n",
      "age      79.5800\n",
      "fare    512.3292\n",
      "dtype: float64\n",
      "\n",
      "\n",
      "<class 'pandas.core.series.Series'>\n"
     ]
    }
   ],
   "source": [
    "import seaborn as sns\n",
    "\n",
    "titanic = sns.load_dataset('titanic')\n",
    "df = titanic.loc[:, ['age','fare']]\n",
    "print(df.head())\n",
    "print('\\n')\n",
    "\n",
    "def min_max(x):\n",
    "    return x.max()-x.min()\n",
    "\n",
    "result = df.apply(min_max)\n",
    "print(result)\n",
    "print('\\n')\n",
    "print(type(result))"
   ]
  },
  {
   "cell_type": "code",
   "execution_count": 12,
   "metadata": {},
   "outputs": [
    {
     "name": "stdout",
     "output_type": "stream",
     "text": [
      "    age     fare  ten\n",
      "0  22.0   7.2500   10\n",
      "1  38.0  71.2833   10\n",
      "2  26.0   7.9250   10\n",
      "3  35.0  53.1000   10\n",
      "4  35.0   8.0500   10\n",
      "\n",
      "\n",
      "    age     fare  ten   add\n",
      "0  22.0   7.2500   10  32.0\n",
      "1  38.0  71.2833   10  48.0\n",
      "2  26.0   7.9250   10  36.0\n",
      "3  35.0  53.1000   10  45.0\n",
      "4  35.0   8.0500   10  45.0\n"
     ]
    }
   ],
   "source": [
    "# 데이터프레임에 apply(axis=1) 적용\n",
    "# 데이터프레임 객체에 apply(axis=1) 메소드를 적용하면 데이터프레임의 각 행을 매핑 함수의 인자로 전달한다.\n",
    "import seaborn as sns\n",
    "\n",
    "titanic = sns.load_dataset('titanic')\n",
    "df = titanic.loc[:, ['age','fare']]\n",
    "df['ten'] = 10\n",
    "print(df.head())\n",
    "print('\\n')\n",
    "\n",
    "def add_two_obj(a,b):\n",
    "    return a+b\n",
    "\n",
    "df['add'] = df.apply(lambda x: add_two_obj(x['age'], x['ten']), axis=1)\n",
    "print(df.head())"
   ]
  },
  {
   "cell_type": "markdown",
   "metadata": {},
   "source": [
    "#### 1-3. 데이터프레임 객체에 함수 매핑"
   ]
  },
  {
   "cell_type": "code",
   "execution_count": 14,
   "metadata": {},
   "outputs": [
    {
     "name": "stdout",
     "output_type": "stream",
     "text": [
      "     age   fare\n",
      "0  False  False\n",
      "1  False  False\n",
      "2  False  False\n",
      "3  False  False\n",
      "4  False  False\n",
      "<class 'pandas.core.frame.DataFrame'>\n"
     ]
    }
   ],
   "source": [
    "# 데이터프레임에 pipe() 적용\n",
    "import seaborn as sns\n",
    "\n",
    "titanic = sns.load_dataset('titanic')\n",
    "df = titanic.loc[:, ['age','fare']]\n",
    "\n",
    "# 각 열의 NaN 찾기 - 데이터프레임을 전달하면 데이터프레임 반환\n",
    "def missing_value(x):\n",
    "    return x.isnull()\n",
    "\n",
    "# 각 열의 NaN 개수 반환 - 데이터프레임을 전달하면 시리즈 반환\n",
    "def missing_count(x):\n",
    "    return missing_value(x).sum()\n",
    "\n",
    "# 데이터프레임의 총 NaN 개수 - 데이터프레임을 전달하면 값 반환\n",
    "def total_number_missing(x):\n",
    "    return missing_count(x).sum()\n",
    "\n",
    "# 데이터프레임에 함수 매핑\n",
    "result_df = df.pipe(missing_value)\n",
    "print(result_df.head())\n",
    "print(type(result_df))"
   ]
  },
  {
   "cell_type": "code",
   "execution_count": 15,
   "metadata": {},
   "outputs": [
    {
     "name": "stdout",
     "output_type": "stream",
     "text": [
      "age     177\n",
      "fare      0\n",
      "dtype: int64\n",
      "<class 'pandas.core.series.Series'>\n"
     ]
    }
   ],
   "source": [
    "result_series = df.pipe(missing_count)\n",
    "print(result_series)\n",
    "print(type(result_series))"
   ]
  },
  {
   "cell_type": "code",
   "execution_count": 16,
   "metadata": {},
   "outputs": [
    {
     "name": "stdout",
     "output_type": "stream",
     "text": [
      "177\n",
      "<class 'numpy.int64'>\n"
     ]
    }
   ],
   "source": [
    "result_value = df.pipe(total_number_missing)\n",
    "print(result_value)\n",
    "print(type(result_value))"
   ]
  },
  {
   "cell_type": "markdown",
   "metadata": {},
   "source": [
    "### 2. 열 재구성"
   ]
  },
  {
   "cell_type": "markdown",
   "metadata": {},
   "source": [
    "#### 2-1. 열 순서 변경\n",
    "* 열 이름을 원하는 순서대로 정리해서 리스트를 만들고 데이터프레임에서 열을 다시 선택하는 방식으로 열 순서를 바꿀 수 있다."
   ]
  },
  {
   "cell_type": "code",
   "execution_count": 17,
   "metadata": {},
   "outputs": [
    {
     "name": "stdout",
     "output_type": "stream",
     "text": [
      "   survived  pclass     sex   age\n",
      "0         0       3    male  22.0\n",
      "1         1       1  female  38.0\n",
      "2         1       3  female  26.0\n",
      "3         1       1  female  35.0\n",
      "4         0       3    male  35.0 \n",
      "\n"
     ]
    }
   ],
   "source": [
    "import seaborn as sns\n",
    "\n",
    "titanic = sns.load_dataset('titanic')\n",
    "df = titanic.loc[0:4, 'survived':'age']\n",
    "print(df, '\\n')"
   ]
  },
  {
   "cell_type": "code",
   "execution_count": 20,
   "metadata": {},
   "outputs": [
    {
     "name": "stdout",
     "output_type": "stream",
     "text": [
      "['survived', 'pclass', 'sex', 'age'] \n",
      "\n"
     ]
    }
   ],
   "source": [
    "columns = list(df.columns.values)    # 기존 열 이름\n",
    "print(columns, '\\n')"
   ]
  },
  {
   "cell_type": "code",
   "execution_count": 21,
   "metadata": {},
   "outputs": [
    {
     "name": "stdout",
     "output_type": "stream",
     "text": [
      "    age  pclass     sex  survived\n",
      "0  22.0       3    male         0\n",
      "1  38.0       1  female         1\n",
      "2  26.0       3  female         1\n",
      "3  35.0       1  female         1\n",
      "4  35.0       3    male         0 \n",
      "\n"
     ]
    }
   ],
   "source": [
    "# 열 이름을 알파벳 순으로 정렬하기\n",
    "columns_sorted = sorted(columns)\n",
    "df_sorted = df[columns_sorted]\n",
    "print(df_sorted, '\\n')"
   ]
  },
  {
   "cell_type": "code",
   "execution_count": 22,
   "metadata": {},
   "outputs": [
    {
     "name": "stdout",
     "output_type": "stream",
     "text": [
      "    age     sex  pclass  survived\n",
      "0  22.0    male       3         0\n",
      "1  38.0  female       1         1\n",
      "2  26.0  female       3         1\n",
      "3  35.0  female       1         1\n",
      "4  35.0    male       3         0 \n",
      "\n"
     ]
    }
   ],
   "source": [
    "# 열 이름을 기존 순서의 정반대 역순으로 정렬하기\n",
    "columns_reversed = list(reversed(columns))\n",
    "df_reversed = df[columns_reversed]\n",
    "print(df_reversed, '\\n')"
   ]
  },
  {
   "cell_type": "code",
   "execution_count": 24,
   "metadata": {},
   "outputs": [
    {
     "name": "stdout",
     "output_type": "stream",
     "text": [
      "   pclass     sex   age  survived\n",
      "0       3    male  22.0         0\n",
      "1       1  female  38.0         1\n",
      "2       3  female  26.0         1\n",
      "3       1  female  35.0         1\n",
      "4       3    male  35.0         0\n"
     ]
    }
   ],
   "source": [
    "# 열 이름을 사용자가 정의한 임의의 순서로 재배치하기\n",
    "columns_customed = ['pclass', 'sex', 'age', 'survived']\n",
    "df_customed = df[columns_customed]\n",
    "print(df_customed)"
   ]
  },
  {
   "cell_type": "markdown",
   "metadata": {},
   "source": [
    "#### 2-2. 열 분리"
   ]
  },
  {
   "cell_type": "code",
   "execution_count": 26,
   "metadata": {},
   "outputs": [
    {
     "name": "stdout",
     "output_type": "stream",
     "text": [
      "         연월일   당일종가  전일종가     시가     고가     저가     거래량\n",
      "0 2018-07-02  10100   600  10850  10900  10000  137977\n",
      "1 2018-06-29  10700   300  10550  10900   9990  170253\n",
      "2 2018-06-28  10400   500  10900  10950  10150  155769\n",
      "3 2018-06-27  10900   100  10800  11050  10500  133548\n",
      "4 2018-06-26  10800   350  10900  11000  10700   63039 \n",
      "\n",
      "연월일     datetime64[ns]\n",
      "당일종가             int64\n",
      "전일종가             int64\n",
      "시가               int64\n",
      "고가               int64\n",
      "저가               int64\n",
      "거래량              int64\n",
      "dtype: object\n"
     ]
    }
   ],
   "source": [
    "# 열 분리하기\n",
    "import pandas as pd\n",
    "\n",
    "df = pd.read_excel('./주가데이터.xlsx', engine='openpyxl')\n",
    "print(df.head(), '\\n')\n",
    "print(df.dtypes)"
   ]
  },
  {
   "cell_type": "code",
   "execution_count": 28,
   "metadata": {},
   "outputs": [
    {
     "name": "stdout",
     "output_type": "stream",
     "text": [
      "0    [2018, 07, 02]\n",
      "1    [2018, 06, 29]\n",
      "2    [2018, 06, 28]\n",
      "3    [2018, 06, 27]\n",
      "4    [2018, 06, 26]\n",
      "Name: 연월일, dtype: object\n"
     ]
    }
   ],
   "source": [
    "# 연,월,일 데이터 분리하기\n",
    "df['연월일'] = df['연월일'].astype('str')    # 문자열 메소드 사용을 위해 자료형 변경\n",
    "dates = df['연월일'].str.split('-')    # 문자열을 split() 메소드로 분리\n",
    "print(dates.head())"
   ]
  },
  {
   "cell_type": "code",
   "execution_count": 29,
   "metadata": {},
   "outputs": [
    {
     "name": "stdout",
     "output_type": "stream",
     "text": [
      "          연월일   당일종가  전일종가     시가     고가     저가     거래량     연   월   일\n",
      "0  2018-07-02  10100   600  10850  10900  10000  137977  2018  07  02\n",
      "1  2018-06-29  10700   300  10550  10900   9990  170253  2018  06  29\n",
      "2  2018-06-28  10400   500  10900  10950  10150  155769  2018  06  28\n",
      "3  2018-06-27  10900   100  10800  11050  10500  133548  2018  06  27\n",
      "4  2018-06-26  10800   350  10900  11000  10700   63039  2018  06  26\n"
     ]
    }
   ],
   "source": [
    "# 분리된 정보를 각각 새로운 열에 담아 df에 추가하기\n",
    "df['연'] = dates.str.get(0)\n",
    "df['월'] = dates.str.get(1)\n",
    "df['일'] = dates.str.get(2)\n",
    "print(df.head())"
   ]
  },
  {
   "cell_type": "markdown",
   "metadata": {},
   "source": [
    "### 3. 필터링"
   ]
  },
  {
   "cell_type": "markdown",
   "metadata": {},
   "source": [
    "#### 3-1. 불린 인덱싱"
   ]
  },
  {
   "cell_type": "code",
   "execution_count": 31,
   "metadata": {},
   "outputs": [
    {
     "name": "stdout",
     "output_type": "stream",
     "text": [
      "    survived  pclass     sex   age  sibsp  parch      fare embarked   class  \\\n",
      "9          1       2  female  14.0      1      0   30.0708        C  Second   \n",
      "14         0       3  female  14.0      0      0    7.8542        S   Third   \n",
      "22         1       3  female  15.0      0      0    8.0292        Q   Third   \n",
      "27         0       1    male  19.0      3      2  263.0000        S   First   \n",
      "38         0       3  female  18.0      2      0   18.0000        S   Third   \n",
      "\n",
      "      who  adult_male deck  embark_town alive  alone  \n",
      "9   child       False  NaN    Cherbourg   yes  False  \n",
      "14  child       False  NaN  Southampton    no   True  \n",
      "22  child       False  NaN   Queenstown   yes   True  \n",
      "27    man        True    C  Southampton    no  False  \n",
      "38  woman       False  NaN  Southampton    no  False  \n"
     ]
    }
   ],
   "source": [
    "# 불린 인덱싱\n",
    "import seaborn as sns\n",
    "\n",
    "titanic = sns.load_dataset('titanic')\n",
    "\n",
    "# 나이가 10대인 승객만 따로 선택\n",
    "mask1 = (titanic.age>=10)&(titanic.age<20)\n",
    "df_teenage = titanic.loc[mask1, :]\n",
    "print(df_teenage.head())"
   ]
  },
  {
   "cell_type": "code",
   "execution_count": 32,
   "metadata": {},
   "outputs": [
    {
     "name": "stdout",
     "output_type": "stream",
     "text": [
      "     survived  pclass     sex  age  sibsp  parch     fare embarked   class  \\\n",
      "10          1       3  female  4.0      1      1  16.7000        S   Third   \n",
      "24          0       3  female  8.0      3      1  21.0750        S   Third   \n",
      "43          1       2  female  3.0      1      2  41.5792        C  Second   \n",
      "58          1       2  female  5.0      1      2  27.7500        S  Second   \n",
      "119         0       3  female  2.0      4      2  31.2750        S   Third   \n",
      "\n",
      "       who  adult_male deck  embark_town alive  alone  \n",
      "10   child       False    G  Southampton   yes  False  \n",
      "24   child       False  NaN  Southampton    no  False  \n",
      "43   child       False  NaN    Cherbourg   yes  False  \n",
      "58   child       False  NaN  Southampton   yes  False  \n",
      "119  child       False  NaN  Southampton    no  False  \n"
     ]
    }
   ],
   "source": [
    "# 나이가 10세 미만이고 여성인 승객만 따로 선택\n",
    "mask2 = (titanic.age<10)&(titanic.sex=='female')\n",
    "df_female_under10 = titanic.loc[mask2,:]\n",
    "print(df_female_under10.head())"
   ]
  },
  {
   "cell_type": "code",
   "execution_count": 34,
   "metadata": {},
   "outputs": [
    {
     "name": "stdout",
     "output_type": "stream",
     "text": [
      "     age     sex  alone\n",
      "7    2.0    male  False\n",
      "10   4.0  female  False\n",
      "16   2.0    male  False\n",
      "24   8.0  female  False\n",
      "33  66.0    male   True\n"
     ]
    }
   ],
   "source": [
    "# 나이가 10세 미만 또는 60세 이상인 승객의 age,sex,alone열만 선택\n",
    "mask3 = (titanic.age<10) | (titanic.age>=60)\n",
    "df_under10_morethan60 = titanic.loc[mask3, ['age','sex','alone']]\n",
    "print(df_under10_morethan60.head())"
   ]
  },
  {
   "cell_type": "markdown",
   "metadata": {},
   "source": [
    "#### 3-2. isin() 메소드 활용\n",
    "* 데이터프레임의 열에 isin() 메소드를 적용하면 특정 값을 가진 행들을 따로 추출할 수 있다."
   ]
  },
  {
   "cell_type": "code",
   "execution_count": 35,
   "metadata": {},
   "outputs": [
    {
     "name": "stdout",
     "output_type": "stream",
     "text": [
      "    survived  pclass     sex   age  sibsp  ...  adult_male  deck  embark_town  \\\n",
      "7          0       3    male   2.0      3  ...       False   NaN  Southampton   \n",
      "16         0       3    male   2.0      4  ...       False   NaN   Queenstown   \n",
      "24         0       3  female   8.0      3  ...       False   NaN  Southampton   \n",
      "27         0       1    male  19.0      3  ...        True     C  Southampton   \n",
      "50         0       3    male   7.0      4  ...       False   NaN  Southampton   \n",
      "\n",
      "   alive  alone  \n",
      "7     no  False  \n",
      "16    no  False  \n",
      "24    no  False  \n",
      "27    no  False  \n",
      "50    no  False  \n",
      "\n",
      "[5 rows x 15 columns]\n"
     ]
    }
   ],
   "source": [
    "# isin() 필터링\n",
    "import seaborn as sns\n",
    "import pandas as pd\n",
    "\n",
    "titanic = sns.load_dataset('titanic')\n",
    "\n",
    "# IPython 디스플레이 설정 변경 - 출력할 최대 열의 개수\n",
    "pd.set_option('display.max_columns', 10)\n",
    "\n",
    "# 함께 탑승한 형제 또는 배우자의 수가 3,4,5인 승객만 따로 추출 - 불린 인덱싱\n",
    "mask3 = titanic['sibsp']==3\n",
    "mask4 = titanic['sibsp']==4\n",
    "mask5 = titanic['sibsp']==5\n",
    "\n",
    "df_boolean = titanic[mask3|mask4|mask5]\n",
    "print(df_boolean.head())"
   ]
  },
  {
   "cell_type": "code",
   "execution_count": 36,
   "metadata": {},
   "outputs": [
    {
     "name": "stdout",
     "output_type": "stream",
     "text": [
      "    survived  pclass     sex   age  sibsp  ...  adult_male  deck  embark_town  \\\n",
      "7          0       3    male   2.0      3  ...       False   NaN  Southampton   \n",
      "16         0       3    male   2.0      4  ...       False   NaN   Queenstown   \n",
      "24         0       3  female   8.0      3  ...       False   NaN  Southampton   \n",
      "27         0       1    male  19.0      3  ...        True     C  Southampton   \n",
      "50         0       3    male   7.0      4  ...       False   NaN  Southampton   \n",
      "\n",
      "   alive  alone  \n",
      "7     no  False  \n",
      "16    no  False  \n",
      "24    no  False  \n",
      "27    no  False  \n",
      "50    no  False  \n",
      "\n",
      "[5 rows x 15 columns]\n"
     ]
    }
   ],
   "source": [
    "# isin() 메소드 활용하여 동일한 조건으로 추출\n",
    "# isin() 메소드의 인자로[3,4,5] 형태의 리스트를 전달하면 해당 값이 존재하는 행은 참을 반환하고, 값이 없으면 거짓을 반환한다.\n",
    "isin_filter = titanic['sibsp'].isin([3,4,5])\n",
    "df_isin = titanic[isin_filter]\n",
    "print(df_isin.head())"
   ]
  },
  {
   "cell_type": "markdown",
   "metadata": {},
   "source": [
    "### 4. 데이터프레임 합치기"
   ]
  },
  {
   "cell_type": "markdown",
   "metadata": {},
   "source": [
    "#### 4-1. 데이터프레임 연결"
   ]
  },
  {
   "cell_type": "code",
   "execution_count": 37,
   "metadata": {},
   "outputs": [
    {
     "name": "stdout",
     "output_type": "stream",
     "text": [
      "    a   b   c\n",
      "0  a0  b0  c0\n",
      "1  a1  b1  c1\n",
      "2  a2  b2  c2\n",
      "3  a3  b3  c3 \n",
      "\n",
      "    a   b   c   d\n",
      "2  a2  b2  c2  d2\n",
      "3  a3  b3  c3  d3\n",
      "4  a4  b4  c4  d4\n",
      "5  a5  b5  c5  d5 \n",
      "\n",
      "    a   b   c    d\n",
      "0  a0  b0  c0  NaN\n",
      "1  a1  b1  c1  NaN\n",
      "2  a2  b2  c2  NaN\n",
      "3  a3  b3  c3  NaN\n",
      "2  a2  b2  c2   d2\n",
      "3  a3  b3  c3   d3\n",
      "4  a4  b4  c4   d4\n",
      "5  a5  b5  c5   d5 \n",
      "\n"
     ]
    }
   ],
   "source": [
    "import pandas as pd\n",
    "\n",
    "df1 = pd.DataFrame({'a':['a0','a1','a2','a3'],\n",
    "                    'b':['b0','b1','b2','b3'],\n",
    "                    'c':['c0','c1','c2','c3']}, index=[0,1,2,3])\n",
    "df2 = pd.DataFrame({'a':['a2','a3','a4','a5'],\n",
    "                    'b':['b2','b3','b4','b5'],\n",
    "                    'c':['c2','c3','c4','c5'],\n",
    "                    'd':['d2','d3','d4','d5']}, index=[2,3,4,5])\n",
    "print(df1,'\\n')\n",
    "print(df2,'\\n')\n",
    "\n",
    "# 2개의 데이터프레임을 위 아래 행 방향으로 이어 붙이듯 연결하기\n",
    "# df1에서 유래한 0,1,2,3 행에는 'd'열이 없기 때문에 NaN으로 입력된다.\n",
    "result1 = pd.concat([df1,df2])\n",
    "print(result1,'\\n')"
   ]
  },
  {
   "cell_type": "code",
   "execution_count": 38,
   "metadata": {},
   "outputs": [
    {
     "name": "stdout",
     "output_type": "stream",
     "text": [
      "    a   b   c    d\n",
      "0  a0  b0  c0  NaN\n",
      "1  a1  b1  c1  NaN\n",
      "2  a2  b2  c2  NaN\n",
      "3  a3  b3  c3  NaN\n",
      "4  a2  b2  c2   d2\n",
      "5  a3  b3  c3   d3\n",
      "6  a4  b4  c4   d4\n",
      "7  a5  b5  c5   d5 \n",
      "\n"
     ]
    }
   ],
   "source": [
    "# ignore_index=True 옵션 설정하기\n",
    "result2 = pd.concat([df1,df2], ignore_index=True)\n",
    "print(result2,'\\n')"
   ]
  },
  {
   "cell_type": "code",
   "execution_count": 39,
   "metadata": {},
   "outputs": [
    {
     "name": "stdout",
     "output_type": "stream",
     "text": [
      "     a    b    c    a    b    c    d\n",
      "0   a0   b0   c0  NaN  NaN  NaN  NaN\n",
      "1   a1   b1   c1  NaN  NaN  NaN  NaN\n",
      "2   a2   b2   c2   a2   b2   c2   d2\n",
      "3   a3   b3   c3   a3   b3   c3   d3\n",
      "4  NaN  NaN  NaN   a4   b4   c4   d4\n",
      "5  NaN  NaN  NaN   a5   b5   c5   d5 \n",
      "\n"
     ]
    }
   ],
   "source": [
    "# 2개의 데이터프레임을 좌우 열 방향으로 이어 붙이듯 연결하기\n",
    "# axis=1 옵션을 사용하면 데이터프레임을 좌우 열 방향으로 연결한다.\n",
    "result3 = pd.concat([df1,df2], axis=1)\n",
    "print(result3, '\\n')"
   ]
  },
  {
   "cell_type": "code",
   "execution_count": 40,
   "metadata": {},
   "outputs": [
    {
     "name": "stdout",
     "output_type": "stream",
     "text": [
      "    a   b   c   a   b   c   d\n",
      "2  a2  b2  c2  a2  b2  c2  d2\n",
      "3  a3  b3  c3  a3  b3  c3  d3 \n",
      "\n"
     ]
    }
   ],
   "source": [
    "# join='inner' 옵션 적용하기(교집합)\n",
    "result3_in = pd.concat([df1,df2], axis=1, join='inner')\n",
    "print(result3_in,'\\n')"
   ]
  },
  {
   "cell_type": "code",
   "execution_count": 45,
   "metadata": {},
   "outputs": [
    {
     "name": "stdout",
     "output_type": "stream",
     "text": [
      "    a   b   c   e\n",
      "0  a0  b0  c0  e0\n",
      "1  a1  b1  c1  e1\n",
      "2  a2  b2  c2  e2\n",
      "3  a3  b3  c3  e3 \n",
      "\n",
      "    a   b   c   d    f\n",
      "2  a2  b2  c2  d2  NaN\n",
      "3  a3  b3  c3  d3   f0\n",
      "4  a4  b4  c4  d4   f1\n",
      "5  a5  b5  c5  d5   f2\n"
     ]
    }
   ],
   "source": [
    "# 시리즈 만들기\n",
    "sr1 = pd.Series(['e0','e1','e2','e3'], name='e')\n",
    "sr2 = pd.Series(['f0','f1','f2'], name='f', index=[3,4,5])\n",
    "sr3 = pd.Series(['g0','g1','g2','g3'], name='g')\n",
    "\n",
    "# df1과 sr1을 좌우 열 방향으로 연결하기\n",
    "result4 = pd.concat([df1,sr1], axis=1)\n",
    "print(result4, '\\n')\n",
    "\n",
    "# df2과 sr2을 좌우 열 방향으로 연결하기\n",
    "result5 = pd.concat([df2,sr2], axis=1, sort=True)\n",
    "print(result5)"
   ]
  },
  {
   "cell_type": "code",
   "execution_count": 46,
   "metadata": {},
   "outputs": [
    {
     "name": "stdout",
     "output_type": "stream",
     "text": [
      "    e   g\n",
      "0  e0  g0\n",
      "1  e1  g1\n",
      "2  e2  g2\n",
      "3  e3  g3 \n",
      "\n",
      "0    e0\n",
      "1    e1\n",
      "2    e2\n",
      "3    e3\n",
      "0    g0\n",
      "1    g1\n",
      "2    g2\n",
      "3    g3\n",
      "dtype: object \n",
      "\n"
     ]
    }
   ],
   "source": [
    "# sr1과 sr3을 좌우 열 방향으로 연결하기\n",
    "result6 = pd.concat([sr1,sr3], axis=1)\n",
    "print(result6,'\\n')\n",
    "\n",
    "result7 = pd.concat([sr1,sr3], axis=0)\n",
    "print(result7,'\\n')"
   ]
  },
  {
   "cell_type": "markdown",
   "metadata": {},
   "source": [
    "#### 4-2. 데이터프레임 병합"
   ]
  },
  {
   "cell_type": "code",
   "execution_count": 47,
   "metadata": {},
   "outputs": [
    {
     "name": "stdout",
     "output_type": "stream",
     "text": [
      "       id    stock_name          value   price\n",
      "0  128940      한미약품   59385.666667  421000\n",
      "1  130960        CJ E&M   58540.666667   98900\n",
      "2  138250    엔에스쇼핑   14558.666667   13200\n",
      "3  139480        이마트  239230.833333  254500\n",
      "4  142280  녹십자엠에스     468.833333   10200\n",
      "5  145990        삼양사   82750.000000   82000\n",
      "6  185750        종근당   40293.666667  100500\n",
      "7  192400    쿠쿠홀딩스  179204.666667  177500\n",
      "8  199800          툴젠   -2514.333333  115400\n",
      "9  204210  모두투어리츠    3093.333333    3475\n",
      "\n",
      "\n",
      "       id              name           eps     bps        per       pbr\n",
      "0  130960            CJ E&M   6301.333333   54068  15.695091  1.829178\n",
      "1  136480              하림    274.166667    3551  11.489362  0.887074\n",
      "2  138040    메리츠금융지주   2122.333333   14894   6.313806  0.899691\n",
      "3  139480            이마트  18268.166667  295780  13.931338  0.860437\n",
      "4  145990            삼양사   5741.000000  108090  14.283226  0.758627\n",
      "5  161390        한국타이어   5648.500000   51341   7.453306  0.820007\n",
      "6  181710   NHN엔터테인먼트   2110.166667   78434  30.755864  0.827447\n",
      "7  185750            종근당   3990.333333   40684  25.185866  2.470259\n",
      "8  204210      모두투어리츠     85.166667    5335  40.802348  0.651359\n",
      "9  207940  삼성바이오로직스   4644.166667   60099  89.790059  6.938551\n"
     ]
    }
   ],
   "source": [
    "# 데이터프레임 합치기(merge)\n",
    "import pandas as pd\n",
    "\n",
    "pd.set_option('display.max_columns', 10)    # 출력할 최대 열의 개수\n",
    "pd.set_option('display.max_colwidth', 20)    # 출력할 열의 너비\n",
    "pd.set_option('display.unicode.east_asian_width', True)    # 유티코드 사용 너비 조정\n",
    "\n",
    "# 주식 데이터를 가져와서 데이터프레임 만들기\n",
    "df1 = pd.read_excel('./stock price.xlsx', engine='openpyxl')\n",
    "df2 = pd.read_excel('./stock valuation.xlsx', engine='openpyxl')\n",
    "\n",
    "print(df1)\n",
    "print('\\n')\n",
    "print(df2)"
   ]
  },
  {
   "cell_type": "code",
   "execution_count": 48,
   "metadata": {},
   "outputs": [
    {
     "name": "stdout",
     "output_type": "stream",
     "text": [
      "       id    stock_name          value   price          name           eps  \\\n",
      "0  130960        CJ E&M   58540.666667   98900        CJ E&M   6301.333333   \n",
      "1  139480        이마트  239230.833333  254500        이마트  18268.166667   \n",
      "2  145990        삼양사   82750.000000   82000        삼양사   5741.000000   \n",
      "3  185750        종근당   40293.666667  100500        종근당   3990.333333   \n",
      "4  204210  모두투어리츠    3093.333333    3475  모두투어리츠     85.166667   \n",
      "\n",
      "      bps        per       pbr  \n",
      "0   54068  15.695091  1.829178  \n",
      "1  295780  13.931338  0.860437  \n",
      "2  108090  14.283226  0.758627  \n",
      "3   40684  25.185866  2.470259  \n",
      "4    5335  40.802348  0.651359  \n"
     ]
    }
   ],
   "source": [
    "# 데이터프레임 합치기 - 교집합\n",
    "# on=None 옵션과 how='inner' 옵션이 기본값으로 적용된다.\n",
    "# how='inner' 옵션은 기준이 되는 열의 데이터가 양쪽 데이터프레임에 공통으로 존재하는 교집합일 경우에만 추출한다는 뜻이다.\n",
    "merge_inner = pd.merge(df1,df2)\n",
    "print(merge_inner)"
   ]
  },
  {
   "cell_type": "code",
   "execution_count": 49,
   "metadata": {},
   "outputs": [
    {
     "name": "stdout",
     "output_type": "stream",
     "text": [
      "        id    stock_name          value     price              name  \\\n",
      "0   128940      한미약품   59385.666667  421000.0               NaN   \n",
      "1   130960        CJ E&M   58540.666667   98900.0            CJ E&M   \n",
      "2   138250    엔에스쇼핑   14558.666667   13200.0               NaN   \n",
      "3   139480        이마트  239230.833333  254500.0            이마트   \n",
      "4   142280  녹십자엠에스     468.833333   10200.0               NaN   \n",
      "5   145990        삼양사   82750.000000   82000.0            삼양사   \n",
      "6   185750        종근당   40293.666667  100500.0            종근당   \n",
      "7   192400    쿠쿠홀딩스  179204.666667  177500.0               NaN   \n",
      "8   199800          툴젠   -2514.333333  115400.0               NaN   \n",
      "9   204210  모두투어리츠    3093.333333    3475.0      모두투어리츠   \n",
      "10  136480           NaN            NaN       NaN              하림   \n",
      "11  138040           NaN            NaN       NaN    메리츠금융지주   \n",
      "12  161390           NaN            NaN       NaN        한국타이어   \n",
      "13  181710           NaN            NaN       NaN   NHN엔터테인먼트   \n",
      "14  207940           NaN            NaN       NaN  삼성바이오로직스   \n",
      "\n",
      "             eps       bps        per       pbr  \n",
      "0            NaN       NaN        NaN       NaN  \n",
      "1    6301.333333   54068.0  15.695091  1.829178  \n",
      "2            NaN       NaN        NaN       NaN  \n",
      "3   18268.166667  295780.0  13.931338  0.860437  \n",
      "4            NaN       NaN        NaN       NaN  \n",
      "5    5741.000000  108090.0  14.283226  0.758627  \n",
      "6    3990.333333   40684.0  25.185866  2.470259  \n",
      "7            NaN       NaN        NaN       NaN  \n",
      "8            NaN       NaN        NaN       NaN  \n",
      "9      85.166667    5335.0  40.802348  0.651359  \n",
      "10    274.166667    3551.0  11.489362  0.887074  \n",
      "11   2122.333333   14894.0   6.313806  0.899691  \n",
      "12   5648.500000   51341.0   7.453306  0.820007  \n",
      "13   2110.166667   78434.0  30.755864  0.827447  \n",
      "14   4644.166667   60099.0  89.790059  6.938551  \n"
     ]
    }
   ],
   "source": [
    "# 데이터프레임 합치기 - 합집합\n",
    "merge_outer = pd.merge(df1, df2, how='outer', on='id')\n",
    "print(merge_outer)"
   ]
  },
  {
   "cell_type": "code",
   "execution_count": 50,
   "metadata": {},
   "outputs": [
    {
     "name": "stdout",
     "output_type": "stream",
     "text": [
      "     id_x    stock_name          value   price      id_y          name  \\\n",
      "0  128940      한미약품   59385.666667  421000       NaN           NaN   \n",
      "1  130960        CJ E&M   58540.666667   98900  130960.0        CJ E&M   \n",
      "2  138250    엔에스쇼핑   14558.666667   13200       NaN           NaN   \n",
      "3  139480        이마트  239230.833333  254500  139480.0        이마트   \n",
      "4  142280  녹십자엠에스     468.833333   10200       NaN           NaN   \n",
      "5  145990        삼양사   82750.000000   82000  145990.0        삼양사   \n",
      "6  185750        종근당   40293.666667  100500  185750.0        종근당   \n",
      "7  192400    쿠쿠홀딩스  179204.666667  177500       NaN           NaN   \n",
      "8  199800          툴젠   -2514.333333  115400       NaN           NaN   \n",
      "9  204210  모두투어리츠    3093.333333    3475  204210.0  모두투어리츠   \n",
      "\n",
      "            eps       bps        per       pbr  \n",
      "0           NaN       NaN        NaN       NaN  \n",
      "1   6301.333333   54068.0  15.695091  1.829178  \n",
      "2           NaN       NaN        NaN       NaN  \n",
      "3  18268.166667  295780.0  13.931338  0.860437  \n",
      "4           NaN       NaN        NaN       NaN  \n",
      "5   5741.000000  108090.0  14.283226  0.758627  \n",
      "6   3990.333333   40684.0  25.185866  2.470259  \n",
      "7           NaN       NaN        NaN       NaN  \n",
      "8           NaN       NaN        NaN       NaN  \n",
      "9     85.166667    5335.0  40.802348  0.651359  \n"
     ]
    }
   ],
   "source": [
    "# 데이터프레임 합치기 - 왼쪽 데이터프레임 기준, 키 값 분리\n",
    "merge_left = pd.merge(df1, df2, how='left', left_on='stock_name', right_on='name')\n",
    "print(merge_left)"
   ]
  },
  {
   "cell_type": "code",
   "execution_count": 51,
   "metadata": {},
   "outputs": [
    {
     "name": "stdout",
     "output_type": "stream",
     "text": [
      "       id_x    stock_name          value     price    id_y              name  \\\n",
      "0  130960.0        CJ E&M   58540.666667   98900.0  130960            CJ E&M   \n",
      "1       NaN           NaN            NaN       NaN  136480              하림   \n",
      "2       NaN           NaN            NaN       NaN  138040    메리츠금융지주   \n",
      "3  139480.0        이마트  239230.833333  254500.0  139480            이마트   \n",
      "4  145990.0        삼양사   82750.000000   82000.0  145990            삼양사   \n",
      "5       NaN           NaN            NaN       NaN  161390        한국타이어   \n",
      "6       NaN           NaN            NaN       NaN  181710   NHN엔터테인먼트   \n",
      "7  185750.0        종근당   40293.666667  100500.0  185750            종근당   \n",
      "8  204210.0  모두투어리츠    3093.333333    3475.0  204210      모두투어리츠   \n",
      "9       NaN           NaN            NaN       NaN  207940  삼성바이오로직스   \n",
      "\n",
      "            eps     bps        per       pbr  \n",
      "0   6301.333333   54068  15.695091  1.829178  \n",
      "1    274.166667    3551  11.489362  0.887074  \n",
      "2   2122.333333   14894   6.313806  0.899691  \n",
      "3  18268.166667  295780  13.931338  0.860437  \n",
      "4   5741.000000  108090  14.283226  0.758627  \n",
      "5   5648.500000   51341   7.453306  0.820007  \n",
      "6   2110.166667   78434  30.755864  0.827447  \n",
      "7   3990.333333   40684  25.185866  2.470259  \n",
      "8     85.166667    5335  40.802348  0.651359  \n",
      "9   4644.166667   60099  89.790059  6.938551  \n"
     ]
    }
   ],
   "source": [
    "# 데이터프레임 합치기 - 오른쪽 데이터프레임 기준, 키 값 분리\n",
    "merge_right = pd.merge(df1, df2, how='right', left_on='stock_name', right_on='name')\n",
    "print(merge_right)"
   ]
  },
  {
   "cell_type": "code",
   "execution_count": 52,
   "metadata": {},
   "outputs": [
    {
     "name": "stdout",
     "output_type": "stream",
     "text": [
      "       id    stock_name         value  price\n",
      "2  138250    엔에스쇼핑  14558.666667  13200\n",
      "4  142280  녹십자엠에스    468.833333  10200\n",
      "9  204210  모두투어리츠   3093.333333   3475\n",
      "\n",
      "\n",
      "       id    stock_name        value  price          name        eps   bps  \\\n",
      "0  204210  모두투어리츠  3093.333333   3475  모두투어리츠  85.166667  5335   \n",
      "\n",
      "         per       pbr  \n",
      "0  40.802348  0.651359  \n"
     ]
    }
   ],
   "source": [
    "# 불린 인덱싱과 결합하여 원하는 데이터 찾기\n",
    "price = df1[df1['price']<50000]\n",
    "print(price.head())\n",
    "print('\\n')\n",
    "\n",
    "value = pd.merge(price, df2)\n",
    "print(value)"
   ]
  },
  {
   "cell_type": "markdown",
   "metadata": {},
   "source": [
    "#### 4-3. 데이터프레임 결합\n",
    "* 판다스 join() 메소드는 두 데이터프레임의 행 인덱스를 기준으로 결합하는 점에서 merge() 함수와 차이가 있다."
   ]
  },
  {
   "cell_type": "code",
   "execution_count": 54,
   "metadata": {},
   "outputs": [
    {
     "name": "stdout",
     "output_type": "stream",
     "text": [
      "          stock_name          value   price          name           eps  \\\n",
      "id                                                                        \n",
      "128940      한미약품   59385.666667  421000           NaN           NaN   \n",
      "130960        CJ E&M   58540.666667   98900        CJ E&M   6301.333333   \n",
      "138250    엔에스쇼핑   14558.666667   13200           NaN           NaN   \n",
      "139480        이마트  239230.833333  254500        이마트  18268.166667   \n",
      "142280  녹십자엠에스     468.833333   10200           NaN           NaN   \n",
      "145990        삼양사   82750.000000   82000        삼양사   5741.000000   \n",
      "185750        종근당   40293.666667  100500        종근당   3990.333333   \n",
      "192400    쿠쿠홀딩스  179204.666667  177500           NaN           NaN   \n",
      "199800          툴젠   -2514.333333  115400           NaN           NaN   \n",
      "204210  모두투어리츠    3093.333333    3475  모두투어리츠     85.166667   \n",
      "\n",
      "             bps        per       pbr  \n",
      "id                                     \n",
      "128940       NaN        NaN       NaN  \n",
      "130960   54068.0  15.695091  1.829178  \n",
      "138250       NaN        NaN       NaN  \n",
      "139480  295780.0  13.931338  0.860437  \n",
      "142280       NaN        NaN       NaN  \n",
      "145990  108090.0  14.283226  0.758627  \n",
      "185750   40684.0  25.185866  2.470259  \n",
      "192400       NaN        NaN       NaN  \n",
      "199800       NaN        NaN       NaN  \n",
      "204210    5335.0  40.802348  0.651359  \n"
     ]
    }
   ],
   "source": [
    "# 데이터프레임 합치기(join)\n",
    "import pandas as pd\n",
    "\n",
    "pd.set_option('display.max_columns', 10)    # 출력할 최대 열의 개수\n",
    "pd.set_option('display.max_colwidth', 20)    # 출력할 열의 너비\n",
    "pd.set_option('display.unicode.east_asian_width', True)    # 유티코드 사용 너비 조정\n",
    "\n",
    "# 주식 데이터를 가져와서 데이터프레임 만들기\n",
    "df1 = pd.read_excel('./stock price.xlsx', index_col='id', engine='openpyxl')\n",
    "df2 = pd.read_excel('./stock valuation.xlsx', index_col='id', engine='openpyxl')\n",
    "\n",
    "# 데이터프레임 결합(join) - how='left' 옵션이 기본 적용\n",
    "df3 = df1.join(df2)\n",
    "print(df3)"
   ]
  },
  {
   "cell_type": "code",
   "execution_count": 55,
   "metadata": {},
   "outputs": [
    {
     "name": "stdout",
     "output_type": "stream",
     "text": [
      "          stock_name          value   price          name           eps  \\\n",
      "id                                                                        \n",
      "130960        CJ E&M   58540.666667   98900        CJ E&M   6301.333333   \n",
      "139480        이마트  239230.833333  254500        이마트  18268.166667   \n",
      "145990        삼양사   82750.000000   82000        삼양사   5741.000000   \n",
      "185750        종근당   40293.666667  100500        종근당   3990.333333   \n",
      "204210  모두투어리츠    3093.333333    3475  모두투어리츠     85.166667   \n",
      "\n",
      "           bps        per       pbr  \n",
      "id                                   \n",
      "130960   54068  15.695091  1.829178  \n",
      "139480  295780  13.931338  0.860437  \n",
      "145990  108090  14.283226  0.758627  \n",
      "185750   40684  25.185866  2.470259  \n",
      "204210    5335  40.802348  0.651359  \n"
     ]
    }
   ],
   "source": [
    "# 데이터프레임 결합(join) - 교집합\n",
    "df4 = df1.join(df2, how='inner')\n",
    "print(df4)"
   ]
  },
  {
   "cell_type": "markdown",
   "metadata": {},
   "source": [
    "### 5. 그룹 연산"
   ]
  },
  {
   "cell_type": "markdown",
   "metadata": {},
   "source": [
    "#### 5-1. 그룹 객체 만들기(분할 단계)"
   ]
  },
  {
   "cell_type": "code",
   "execution_count": 62,
   "metadata": {},
   "outputs": [
    {
     "name": "stdout",
     "output_type": "stream",
     "text": [
      "승객 수: 891\n",
      "    age     sex  class     fare  survived\n",
      "0  22.0    male  Third   7.2500         0\n",
      "1  38.0  female  First  71.2833         1\n",
      "2  26.0  female  Third   7.9250         1\n",
      "3  35.0  female  First  53.1000         1\n",
      "4  35.0    male  Third   8.0500         0\n",
      "\n",
      "\n",
      "<pandas.core.groupby.generic.DataFrameGroupBy object at 0x0000017E23BA3850>\n"
     ]
    }
   ],
   "source": [
    "import pandas as pd\n",
    "import seaborn as sns\n",
    "\n",
    "titanic = sns.load_dataset('titanic')\n",
    "df = titanic.loc[:, ['age','sex','class','fare','survived']]\n",
    "\n",
    "print('승객 수:', len(df))\n",
    "print(df.head())\n",
    "print('\\n')\n",
    "\n",
    "grouped = df.groupby(['class'])\n",
    "print(grouped)"
   ]
  },
  {
   "cell_type": "code",
   "execution_count": 63,
   "metadata": {},
   "outputs": [
    {
     "name": "stdout",
     "output_type": "stream",
     "text": [
      "* key:  First\n",
      "* number:  216\n",
      "     age     sex  class     fare  survived\n",
      "1   38.0  female  First  71.2833         1\n",
      "3   35.0  female  First  53.1000         1\n",
      "6   54.0    male  First  51.8625         0\n",
      "11  58.0  female  First  26.5500         1\n",
      "23  28.0    male  First  35.5000         1\n",
      "\n",
      "\n",
      "* key:  Second\n",
      "* number:  184\n",
      "     age     sex   class     fare  survived\n",
      "9   14.0  female  Second  30.0708         1\n",
      "15  55.0  female  Second  16.0000         1\n",
      "17   NaN    male  Second  13.0000         1\n",
      "20  35.0    male  Second  26.0000         0\n",
      "21  34.0    male  Second  13.0000         1\n",
      "\n",
      "\n",
      "* key:  Third\n",
      "* number:  491\n",
      "    age     sex  class     fare  survived\n",
      "0  22.0    male  Third   7.2500         0\n",
      "2  26.0  female  Third   7.9250         1\n",
      "4  35.0    male  Third   8.0500         0\n",
      "5   NaN    male  Third   8.4583         0\n",
      "7   2.0    male  Third  21.0750         0\n",
      "\n",
      "\n"
     ]
    }
   ],
   "source": [
    "# 그룹 객체를 iteration으로 출력: head() 메소드로 첫 5행만을 출력\n",
    "for key, group in grouped:\n",
    "    print('* key: ', key)\n",
    "    print('* number: ', len(group))\n",
    "    print(group.head())\n",
    "    print('\\n')"
   ]
  },
  {
   "cell_type": "code",
   "execution_count": 64,
   "metadata": {},
   "outputs": [
    {
     "name": "stdout",
     "output_type": "stream",
     "text": [
      "              age       fare  survived\n",
      "class                                 \n",
      "First   38.233441  84.154687  0.629630\n",
      "Second  29.877630  20.662183  0.472826\n",
      "Third   25.140620  13.675550  0.242363\n"
     ]
    }
   ],
   "source": [
    "# 연산 메소드 적용\n",
    "average = grouped.mean()\n",
    "print(average)"
   ]
  },
  {
   "cell_type": "code",
   "execution_count": 67,
   "metadata": {},
   "outputs": [
    {
     "name": "stdout",
     "output_type": "stream",
     "text": [
      "    age     sex  class     fare  survived\n",
      "0  22.0    male  Third   7.2500         0\n",
      "2  26.0  female  Third   7.9250         1\n",
      "4  35.0    male  Third   8.0500         0\n",
      "5   NaN    male  Third   8.4583         0\n",
      "7   2.0    male  Third  21.0750         0\n"
     ]
    }
   ],
   "source": [
    "# 그룹 객체에 get_group() 메소드를 적용하면 특정 그룹만을 선택할 수 있다.\n",
    "group3 = grouped.get_group('Third')\n",
    "print(group3.head())"
   ]
  },
  {
   "cell_type": "code",
   "execution_count": 68,
   "metadata": {},
   "outputs": [
    {
     "name": "stdout",
     "output_type": "stream",
     "text": [
      "* key:  ('First', 'female')\n",
      "* number:  94\n",
      "     age     sex  class      fare  survived\n",
      "1   38.0  female  First   71.2833         1\n",
      "3   35.0  female  First   53.1000         1\n",
      "11  58.0  female  First   26.5500         1\n",
      "31   NaN  female  First  146.5208         1\n",
      "52  49.0  female  First   76.7292         1\n",
      "\n",
      "\n",
      "* key:  ('First', 'male')\n",
      "* number:  122\n",
      "     age   sex  class      fare  survived\n",
      "6   54.0  male  First   51.8625         0\n",
      "23  28.0  male  First   35.5000         1\n",
      "27  19.0  male  First  263.0000         0\n",
      "30  40.0  male  First   27.7208         0\n",
      "34  28.0  male  First   82.1708         0\n",
      "\n",
      "\n",
      "* key:  ('Second', 'female')\n",
      "* number:  76\n",
      "     age     sex   class     fare  survived\n",
      "9   14.0  female  Second  30.0708         1\n",
      "15  55.0  female  Second  16.0000         1\n",
      "41  27.0  female  Second  21.0000         0\n",
      "43   3.0  female  Second  41.5792         1\n",
      "53  29.0  female  Second  26.0000         1\n",
      "\n",
      "\n",
      "* key:  ('Second', 'male')\n",
      "* number:  108\n",
      "     age   sex   class  fare  survived\n",
      "17   NaN  male  Second  13.0         1\n",
      "20  35.0  male  Second  26.0         0\n",
      "21  34.0  male  Second  13.0         1\n",
      "33  66.0  male  Second  10.5         0\n",
      "70  32.0  male  Second  10.5         0\n",
      "\n",
      "\n",
      "* key:  ('Third', 'female')\n",
      "* number:  144\n",
      "     age     sex  class     fare  survived\n",
      "2   26.0  female  Third   7.9250         1\n",
      "8   27.0  female  Third  11.1333         1\n",
      "10   4.0  female  Third  16.7000         1\n",
      "14  14.0  female  Third   7.8542         0\n",
      "18  31.0  female  Third  18.0000         0\n",
      "\n",
      "\n",
      "* key:  ('Third', 'male')\n",
      "* number:  347\n",
      "     age   sex  class     fare  survived\n",
      "0   22.0  male  Third   7.2500         0\n",
      "4   35.0  male  Third   8.0500         0\n",
      "5    NaN  male  Third   8.4583         0\n",
      "7    2.0  male  Third  21.0750         0\n",
      "12  20.0  male  Third   8.0500         0\n",
      "\n",
      "\n"
     ]
    }
   ],
   "source": [
    "# class 열, sex 열을 기준으로 분할\n",
    "grouped_two = df.groupby(['class','sex'])\n",
    "\n",
    "for key, group in grouped_two:\n",
    "    print('* key: ', key)\n",
    "    print('* number: ', len(group))\n",
    "    print(group.head())\n",
    "    print('\\n')"
   ]
  },
  {
   "cell_type": "code",
   "execution_count": 72,
   "metadata": {},
   "outputs": [
    {
     "name": "stdout",
     "output_type": "stream",
     "text": [
      "                     age        fare  survived\n",
      "class  sex                                    \n",
      "First  female  34.611765  106.125798  0.968085\n",
      "       male    41.281386   67.226127  0.368852\n",
      "Second female  28.722973   21.970121  0.921053\n",
      "       male    30.740707   19.741782  0.157407\n",
      "Third  female  21.750000   16.118810  0.500000\n",
      "       male    26.507589   12.661633  0.135447\n",
      "\n",
      "\n",
      "<class 'pandas.core.frame.DataFrame'>\n"
     ]
    }
   ],
   "source": [
    "average_two = grouped_two.mean()\n",
    "print(average_two)\n",
    "print('\\n')\n",
    "print(type(average_two))"
   ]
  },
  {
   "cell_type": "code",
   "execution_count": 73,
   "metadata": {},
   "outputs": [
    {
     "name": "stdout",
     "output_type": "stream",
     "text": [
      "     age     sex  class     fare  survived\n",
      "2   26.0  female  Third   7.9250         1\n",
      "8   27.0  female  Third  11.1333         1\n",
      "10   4.0  female  Third  16.7000         1\n",
      "14  14.0  female  Third   7.8542         0\n",
      "18  31.0  female  Third  18.0000         0\n"
     ]
    }
   ],
   "source": [
    "group3f = grouped_two.get_group(('Third','female'))\n",
    "print(group3f.head())"
   ]
  },
  {
   "cell_type": "markdown",
   "metadata": {},
   "source": [
    "#### 5-2. 그룹 연산 메소드(적용-결합 단계)"
   ]
  },
  {
   "cell_type": "code",
   "execution_count": 75,
   "metadata": {},
   "outputs": [
    {
     "name": "stdout",
     "output_type": "stream",
     "text": [
      "              age       fare  survived\n",
      "class                                 \n",
      "First   14.802856  78.380373  0.484026\n",
      "Second  14.001077  13.417399  0.500623\n",
      "Third   12.495398  11.778142  0.428949\n",
      "<class 'pandas.core.frame.DataFrame'>\n"
     ]
    }
   ],
   "source": [
    "import pandas as pd\n",
    "import seaborn as sns\n",
    "\n",
    "titanic = sns.load_dataset('titanic')\n",
    "df = titanic.loc[:, ['age','sex','class','fare','survived']]\n",
    "\n",
    "grouped = df.groupby(['class'])\n",
    "\n",
    "std_all = grouped.std()\n",
    "print(std_all)\n",
    "print(type(std_all))"
   ]
  },
  {
   "cell_type": "code",
   "execution_count": 76,
   "metadata": {},
   "outputs": [
    {
     "name": "stdout",
     "output_type": "stream",
     "text": [
      "class\n",
      "First     78.380373\n",
      "Second    13.417399\n",
      "Third     11.778142\n",
      "Name: fare, dtype: float64\n",
      "<class 'pandas.core.series.Series'>\n"
     ]
    }
   ],
   "source": [
    "std_fare = grouped.fare.std()\n",
    "print(std_fare)\n",
    "print(type(std_fare))"
   ]
  },
  {
   "cell_type": "code",
   "execution_count": 77,
   "metadata": {},
   "outputs": [
    {
     "name": "stdout",
     "output_type": "stream",
     "text": [
      "          age      fare  survived\n",
      "class                            \n",
      "First   79.08  512.3292         1\n",
      "Second  69.33   73.5000         1\n",
      "Third   73.58   69.5500         1\n"
     ]
    },
    {
     "name": "stderr",
     "output_type": "stream",
     "text": [
      "C:\\Users\\dpdnj\\anaconda3\\lib\\site-packages\\pandas\\core\\groupby\\generic.py:303: FutureWarning: Dropping invalid columns in SeriesGroupBy.agg is deprecated. In a future version, a TypeError will be raised. Before calling .agg, select only columns which should be valid for the aggregating function.\n",
      "  results[key] = self.aggregate(func)\n"
     ]
    }
   ],
   "source": [
    "def min_max(x):\n",
    "    return x.max()-x.min()\n",
    "\n",
    "agg_minmax = grouped.agg(min_max)\n",
    "print(agg_minmax.head())"
   ]
  },
  {
   "cell_type": "code",
   "execution_count": 78,
   "metadata": {},
   "outputs": [
    {
     "name": "stdout",
     "output_type": "stream",
     "text": [
      "         age           sex       fare           survived    \n",
      "         min   max     min   max  min       max      min max\n",
      "class                                                       \n",
      "First   0.92  80.0  female  male  0.0  512.3292        0   1\n",
      "Second  0.67  70.0  female  male  0.0   73.5000        0   1\n",
      "Third   0.42  74.0  female  male  0.0   69.5500        0   1\n",
      "\n",
      "\n",
      "       fare                  age\n",
      "        min       max       mean\n",
      "class                           \n",
      "First   0.0  512.3292  38.233441\n",
      "Second  0.0   73.5000  29.877630\n",
      "Third   0.0   69.5500  25.140620\n"
     ]
    }
   ],
   "source": [
    "# 여러 함수를 각 열에 동일하게 적용하여 집계\n",
    "agg_all = grouped.agg(['min','max'])\n",
    "print(agg_all.head())\n",
    "print('\\n')\n",
    "\n",
    "agg_sep = grouped.agg({'fare':['min','max'], 'age':'mean'})\n",
    "print(agg_sep.head())"
   ]
  },
  {
   "cell_type": "code",
   "execution_count": 79,
   "metadata": {},
   "outputs": [
    {
     "name": "stdout",
     "output_type": "stream",
     "text": [
      "class\n",
      "First     38.233441\n",
      "Second    29.877630\n",
      "Third     25.140620\n",
      "Name: age, dtype: float64\n",
      "\n",
      "\n",
      "class\n",
      "First     14.802856\n",
      "Second    14.001077\n",
      "Third     12.495398\n",
      "Name: age, dtype: float64\n",
      "\n",
      "\n",
      "* origin:  First\n",
      "1   -0.015770\n",
      "3   -0.218434\n",
      "6    1.065103\n",
      "Name: age, dtype: float64\n",
      "\n",
      "\n",
      "* origin:  Second\n",
      "9    -1.134029\n",
      "15    1.794317\n",
      "17         NaN\n",
      "Name: age, dtype: float64\n",
      "\n",
      "\n",
      "* origin:  Third\n",
      "0   -0.251342\n",
      "2    0.068776\n",
      "4    0.789041\n",
      "Name: age, dtype: float64\n",
      "\n",
      "\n"
     ]
    }
   ],
   "source": [
    "# 그룹별 age 열의 평균 집계 연산\n",
    "age_mean = grouped.age.mean()\n",
    "print(age_mean)\n",
    "print('\\n')\n",
    "\n",
    "# 그룹별 age 열의 표준편차 집계 연산\n",
    "age_std = grouped.age.std()\n",
    "print(age_std)\n",
    "print('\\n')\n",
    "\n",
    "# 그룹 객체의 age 열을 iteration으로 z-score를 계산하여 출력\n",
    "for key, group in grouped.age:\n",
    "    group_zscore = (group-age_mean.loc[key])/age_std.loc[key]\n",
    "    print('* origin: ', key)\n",
    "    print(group_zscore.head(3))\n",
    "    print('\\n')"
   ]
  },
  {
   "cell_type": "code",
   "execution_count": 85,
   "metadata": {},
   "outputs": [
    {
     "name": "stdout",
     "output_type": "stream",
     "text": [
      "1   -0.015770\n",
      "9   -1.134029\n",
      "0   -0.251342\n",
      "Name: age, dtype: float64\n",
      "\n",
      "\n",
      "891\n",
      "\n",
      "\n",
      "0   -0.251342\n",
      "1   -0.015770\n",
      "2    0.068776\n",
      "3   -0.218434\n",
      "4    0.789041\n",
      "5         NaN\n",
      "6    1.065103\n",
      "7   -1.851931\n",
      "8    0.148805\n",
      "9   -1.134029\n",
      "Name: age, dtype: float64\n",
      "<class 'pandas.core.series.Series'>\n"
     ]
    }
   ],
   "source": [
    "# transform() 메소드는 그룹별로 구분하여 각 원소에 함수를 적용하지만 그룹별 집계 대신 각 원소의 본래 행 인덱스와 열 이름을 기준으로 연산 결과를 반환한다.\n",
    "# z-score를 계산하는 사용자 함수 정의\n",
    "def z_score(x):\n",
    "    return (x-x.mean())/x.std()\n",
    "\n",
    "# transform() 메소드를 이용하여 age 열의 데이터를 z-score로 변환\n",
    "age_zscore = grouped.age.transform(z_score)\n",
    "print(age_zscore.loc[[1,9,0]])    # 1,2,3 그룹의 첫 데이터 확인(변환 결과)\n",
    "print('\\n')\n",
    "print(len(age_zscore))\n",
    "print('\\n')\n",
    "print(age_zscore.loc[0:9])\n",
    "print(type(age_zscore))"
   ]
  },
  {
   "cell_type": "code",
   "execution_count": 88,
   "metadata": {},
   "outputs": [
    {
     "name": "stdout",
     "output_type": "stream",
     "text": [
      "    age     sex  class     fare  survived\n",
      "0  22.0    male  Third   7.2500         0\n",
      "1  38.0  female  First  71.2833         1\n",
      "2  26.0  female  Third   7.9250         1\n",
      "3  35.0  female  First  53.1000         1\n",
      "4  35.0    male  Third   8.0500         0\n",
      "\n",
      "\n",
      "<class 'pandas.core.frame.DataFrame'>\n"
     ]
    }
   ],
   "source": [
    "# 그룹 객체 필터링\n",
    "# 'class' 열을 기준으로 구분된 3개의 그룹 중에서 조건을 충족하는 'First'와 'Third'인 그룹의 데이터만 추출된다.\n",
    "grouped_filter = grouped.filter(lambda x: len(x)>=200)\n",
    "print(grouped_filter.head())\n",
    "print('\\n')\n",
    "print(type(grouped_filter))"
   ]
  },
  {
   "cell_type": "markdown",
   "metadata": {},
   "source": [
    "* 그룹 객체 필터링 : group 객체.filter(조건식 함수)"
   ]
  },
  {
   "cell_type": "code",
   "execution_count": 91,
   "metadata": {},
   "outputs": [
    {
     "name": "stdout",
     "output_type": "stream",
     "text": [
      "      age     sex   class    fare  survived\n",
      "884  25.0    male   Third   7.050         0\n",
      "885  39.0  female   Third  29.125         0\n",
      "886  27.0    male  Second  13.000         0\n",
      "888   NaN  female   Third  23.450         0\n",
      "890  32.0    male   Third   7.750         0\n",
      "<class 'pandas.core.frame.DataFrame'>\n"
     ]
    }
   ],
   "source": [
    "# age 열의 평균이 30보다 작은 그룹만을 필터링하여 데이터프레임으로 반환\n",
    "age_filter = grouped.filter(lambda x: x.age.mean()<30)\n",
    "print(age_filter.tail())\n",
    "print(type(age_filter))"
   ]
  },
  {
   "cell_type": "code",
   "execution_count": 92,
   "metadata": {},
   "outputs": [
    {
     "name": "stdout",
     "output_type": "stream",
     "text": [
      "                     age        fare    survived\n",
      "class                                           \n",
      "First  count  186.000000  216.000000  216.000000\n",
      "       mean    38.233441   84.154687    0.629630\n",
      "       std     14.802856   78.380373    0.484026\n",
      "       min      0.920000    0.000000    0.000000\n",
      "       25%     27.000000   30.923950    0.000000\n",
      "       50%     37.000000   60.287500    1.000000\n",
      "       75%     49.000000   93.500000    1.000000\n",
      "       max     80.000000  512.329200    1.000000\n",
      "Second count  173.000000  184.000000  184.000000\n",
      "       mean    29.877630   20.662183    0.472826\n",
      "       std     14.001077   13.417399    0.500623\n",
      "       min      0.670000    0.000000    0.000000\n",
      "       25%     23.000000   13.000000    0.000000\n",
      "       50%     29.000000   14.250000    0.000000\n",
      "       75%     36.000000   26.000000    1.000000\n",
      "       max     70.000000   73.500000    1.000000\n",
      "Third  count  355.000000  491.000000  491.000000\n",
      "       mean    25.140620   13.675550    0.242363\n",
      "       std     12.495398   11.778142    0.428949\n",
      "       min      0.420000    0.000000    0.000000\n",
      "       25%     18.000000    7.750000    0.000000\n",
      "       50%     24.000000    8.050000    0.000000\n",
      "       75%     32.000000   15.500000    0.000000\n",
      "       max     74.000000   69.550000    1.000000\n"
     ]
    }
   ],
   "source": [
    "# 집계: 각 그룹별 요약 통계 정보 집계\n",
    "agg_grouped = grouped.apply(lambda x: x.describe())\n",
    "print(agg_grouped)"
   ]
  },
  {
   "cell_type": "code",
   "execution_count": 95,
   "metadata": {},
   "outputs": [
    {
     "name": "stdout",
     "output_type": "stream",
     "text": [
      "0    19.988010\n",
      "1    35.417158\n",
      "2    23.988010\n",
      "3    32.417158\n",
      "4    32.988010\n",
      "Name: age, dtype: float64\n"
     ]
    }
   ],
   "source": [
    "def z_score(x):\n",
    "    return (x-x.mean()/x.std())\n",
    "    \n",
    "age_zscore = grouped.age.apply(z_score)    # 기본값 axis=0\n",
    "print(age_zscore.head())"
   ]
  },
  {
   "cell_type": "code",
   "execution_count": 96,
   "metadata": {},
   "outputs": [
    {
     "name": "stdout",
     "output_type": "stream",
     "text": [
      "class\n",
      "First     False\n",
      "Second     True\n",
      "Third      True\n",
      "dtype: bool\n"
     ]
    }
   ],
   "source": [
    "# 필터링: age 열의 데이터 평균이 30보다 작은 그룹만을 필터링하여 출력\n",
    "age_filter = grouped.apply(lambda x: x.age.mean()<30)\n",
    "print(age_filter)"
   ]
  },
  {
   "cell_type": "code",
   "execution_count": 99,
   "metadata": {},
   "outputs": [
    {
     "name": "stdout",
     "output_type": "stream",
     "text": [
      "     age     sex   class     fare  survived\n",
      "9   14.0  female  Second  30.0708         1\n",
      "15  55.0  female  Second  16.0000         1\n",
      "17   NaN    male  Second  13.0000         1\n",
      "20  35.0    male  Second  26.0000         0\n",
      "21  34.0    male  Second  13.0000         1\n",
      "\n",
      "\n",
      "    age     sex  class     fare  survived\n",
      "0  22.0    male  Third   7.2500         0\n",
      "2  26.0  female  Third   7.9250         1\n",
      "4  35.0    male  Third   8.0500         0\n",
      "5   NaN    male  Third   8.4583         0\n",
      "7   2.0    male  Third  21.0750         0\n",
      "\n",
      "\n"
     ]
    }
   ],
   "source": [
    "for x in age_filter.index:\n",
    "    if age_filter[x]==True:\n",
    "        age_filter_df=grouped.get_group(x)\n",
    "        print(age_filter_df.head())\n",
    "        print('\\n')"
   ]
  },
  {
   "cell_type": "markdown",
   "metadata": {},
   "source": [
    "### 6. 멀티 인덱스"
   ]
  },
  {
   "cell_type": "code",
   "execution_count": 100,
   "metadata": {},
   "outputs": [
    {
     "name": "stdout",
     "output_type": "stream",
     "text": [
      "                     age        fare  survived\n",
      "class  sex                                    \n",
      "First  female  34.611765  106.125798  0.968085\n",
      "       male    41.281386   67.226127  0.368852\n",
      "Second female  28.722973   21.970121  0.921053\n",
      "       male    30.740707   19.741782  0.157407\n",
      "Third  female  21.750000   16.118810  0.500000\n",
      "       male    26.507589   12.661633  0.135447\n",
      "<class 'pandas.core.frame.DataFrame'>\n"
     ]
    }
   ],
   "source": [
    "# 멀티 인덱스\n",
    "# class 열, sex 열을 기준으로 분할\n",
    "grouped = df.groupby(['class','sex'])\n",
    "\n",
    "gdf = grouped.mean()\n",
    "print(gdf)\n",
    "print(type(gdf))"
   ]
  },
  {
   "cell_type": "code",
   "execution_count": 101,
   "metadata": {},
   "outputs": [
    {
     "name": "stdout",
     "output_type": "stream",
     "text": [
      "              age        fare  survived\n",
      "sex                                    \n",
      "female  34.611765  106.125798  0.968085\n",
      "male    41.281386   67.226127  0.368852\n"
     ]
    }
   ],
   "source": [
    "print(gdf.loc['First'])"
   ]
  },
  {
   "cell_type": "code",
   "execution_count": 102,
   "metadata": {},
   "outputs": [
    {
     "name": "stdout",
     "output_type": "stream",
     "text": [
      "age          34.611765\n",
      "fare        106.125798\n",
      "survived      0.968085\n",
      "Name: (First, female), dtype: float64\n"
     ]
    }
   ],
   "source": [
    "print(gdf.loc[('First','female')])"
   ]
  },
  {
   "cell_type": "code",
   "execution_count": 103,
   "metadata": {},
   "outputs": [
    {
     "name": "stdout",
     "output_type": "stream",
     "text": [
      "              age       fare  survived\n",
      "class                                 \n",
      "First   41.281386  67.226127  0.368852\n",
      "Second  30.740707  19.741782  0.157407\n",
      "Third   26.507589  12.661633  0.135447\n"
     ]
    }
   ],
   "source": [
    "# sex 값이 male인 행을 선택하여 출력\n",
    "print(gdf.xs('male', level='sex'))"
   ]
  },
  {
   "cell_type": "markdown",
   "metadata": {},
   "source": [
    "* 나이가 많을수록 상대적으로 비싼 요금을 지불하고 높은 객실 등급을 이용하는 경향을 읽을 수 있다."
   ]
  },
  {
   "cell_type": "markdown",
   "metadata": {},
   "source": [
    "### 7. 피벗\n",
    "* 판다스 pivot_table() 함수는 엑셀(Excel)에서 사용하는 피벗테이블과 비슷한 기능을 처리한다.\n",
    "* 피벗테이블을 구성하는 4가지 요소(행 인덱스, 열 인덱스, 데이터 값, 데이터 집계 합수)에 적용할 데이터프레임의 열을 각각 지정하여 함수의 인자로 전달한다."
   ]
  },
  {
   "cell_type": "code",
   "execution_count": 106,
   "metadata": {},
   "outputs": [
    {
     "name": "stdout",
     "output_type": "stream",
     "text": [
      "    age     sex  class     fare  survived\n",
      "0  22.0    male  Third   7.2500         0\n",
      "1  38.0  female  First  71.2833         1\n",
      "2  26.0  female  Third   7.9250         1\n",
      "3  35.0  female  First  53.1000         1\n",
      "4  35.0    male  Third   8.0500         0\n",
      "\n",
      "\n",
      "sex        female       male\n",
      "class                       \n",
      "First   34.611765  41.281386\n",
      "Second  28.722973  30.740707\n",
      "Third   21.750000  26.507589\n"
     ]
    }
   ],
   "source": [
    "import pandas as pd\n",
    "import seaborn as sns\n",
    "\n",
    "titanic = sns.load_dataset('titanic')\n",
    "df = titanic.loc[:, ['age','sex','class','fare','survived']]\n",
    "print(df.head())\n",
    "print('\\n')\n",
    "\n",
    "pdf1 = pd.pivot_table(df, index='class', columns='sex', values='age', aggfunc='mean')\n",
    "\n",
    "print(pdf1.head())"
   ]
  },
  {
   "cell_type": "code",
   "execution_count": 107,
   "metadata": {},
   "outputs": [
    {
     "name": "stdout",
     "output_type": "stream",
     "text": [
      "            mean              sum     \n",
      "sex       female      male female male\n",
      "class                                 \n",
      "First   0.968085  0.368852     91   45\n",
      "Second  0.921053  0.157407     70   17\n",
      "Third   0.500000  0.135447     72   47\n"
     ]
    }
   ],
   "source": [
    "pdf2 = pd.pivot_table(df, index='class', columns='sex', values='survived', aggfunc=['mean','sum'])\n",
    "print(pdf2.head())"
   ]
  },
  {
   "cell_type": "code",
   "execution_count": 109,
   "metadata": {},
   "outputs": [
    {
     "name": "stdout",
     "output_type": "stream",
     "text": [
      "                    mean                                      max        \\\n",
      "                     age                   fare               age         \n",
      "survived               0          1           0           1     0     1   \n",
      "class  sex                                                                \n",
      "First  female  25.666667  34.939024  110.604167  105.978159  50.0  63.0   \n",
      "       male    44.581967  36.248000   62.894910   74.637320  71.0  80.0   \n",
      "Second female  36.000000  28.080882   18.250000   22.288989  57.0  55.0   \n",
      "       male    33.369048  16.022000   19.488965   21.095100  70.0  62.0   \n",
      "Third  female  23.818182  19.329787   19.773093   12.464526  48.0  63.0   \n",
      "\n",
      "                                 \n",
      "                 fare            \n",
      "survived            0         1  \n",
      "class  sex                       \n",
      "First  female  151.55  512.3292  \n",
      "       male    263.00  512.3292  \n",
      "Second female   26.00   65.0000  \n",
      "       male     73.50   39.0000  \n",
      "Third  female   69.55   31.3875  \n",
      "\n",
      "\n",
      "MultiIndex([( 'First', 'female'),\n",
      "            ( 'First',   'male'),\n",
      "            ('Second', 'female'),\n",
      "            ('Second',   'male'),\n",
      "            ( 'Third', 'female'),\n",
      "            ( 'Third',   'male')],\n",
      "           names=['class', 'sex'])\n",
      "MultiIndex([('mean',  'age', 0),\n",
      "            ('mean',  'age', 1),\n",
      "            ('mean', 'fare', 0),\n",
      "            ('mean', 'fare', 1),\n",
      "            ( 'max',  'age', 0),\n",
      "            ( 'max',  'age', 1),\n",
      "            ( 'max', 'fare', 0),\n",
      "            ( 'max', 'fare', 1)],\n",
      "           names=[None, None, 'survived'])\n"
     ]
    }
   ],
   "source": [
    "pdf3 = pd.pivot_table(df, index=['class','sex'], columns='survived', values=['age','fare'], aggfunc=['mean','max'])\n",
    "print(pdf3.head())\n",
    "print('\\n')\n",
    "\n",
    "print(pdf3.index)\n",
    "print(pdf3.columns)"
   ]
  }
 ],
 "metadata": {
  "kernelspec": {
   "display_name": "Python 3",
   "language": "python",
   "name": "python3"
  },
  "language_info": {
   "codemirror_mode": {
    "name": "ipython",
    "version": 3
   },
   "file_extension": ".py",
   "mimetype": "text/x-python",
   "name": "python",
   "nbconvert_exporter": "python",
   "pygments_lexer": "ipython3",
   "version": "3.8.5"
  }
 },
 "nbformat": 4,
 "nbformat_minor": 4
}
