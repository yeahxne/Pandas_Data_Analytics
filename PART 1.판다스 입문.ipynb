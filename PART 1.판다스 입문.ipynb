{
 "cells": [
  {
   "cell_type": "markdown",
   "metadata": {},
   "source": [
    "### 1. 데이터과학자가 판다스를 배우는 이유\n",
    "* 판다스 라이브러리는 데이터를 수집하고 정리하는 데 최적화된 도구이며, 오픈소스라서 무료로 사용할 수 있다.\n",
    "* 데이터과학의 80~90% 업무를 처리할 수 있고, 데이터과학자에게 필요한 기본적이면서도 아주 중요한 도구를 갖추게 된다."
   ]
  },
  {
   "cell_type": "markdown",
   "metadata": {},
   "source": [
    "### 2. 판다스 자료구조\n",
    "#### 2-1. 시리즈(Series)\n",
    "* 시리즈는 데이터가 순차적으로 나열된 1차원 배열의 형태를 갖는다.\n",
    "* 시리즈의 인덱스(index)는 데이터 값(value)과 일대일 대응이 된다."
   ]
  },
  {
   "cell_type": "code",
   "execution_count": 1,
   "metadata": {},
   "outputs": [
    {
     "name": "stdout",
     "output_type": "stream",
     "text": [
      "<class 'pandas.core.series.Series'>\n",
      "a    1\n",
      "b    2\n",
      "c    3\n",
      "dtype: int64\n"
     ]
    }
   ],
   "source": [
    "# 딕셔너리 → 시리즈 변환\n",
    "import pandas as pd\n",
    "\n",
    "dict_data = {'a':1, 'b':2, 'c':3}\n",
    "\n",
    "sr = pd.Series(dict_data)\n",
    "\n",
    "print(type(sr))\n",
    "print(sr)"
   ]
  },
  {
   "cell_type": "code",
   "execution_count": 5,
   "metadata": {},
   "outputs": [
    {
     "name": "stdout",
     "output_type": "stream",
     "text": [
      "0    2019-01-02\n",
      "1          3.14\n",
      "2           ABC\n",
      "3           100\n",
      "4          True\n",
      "dtype: object\n",
      "\n",
      "\n",
      "RangeIndex(start=0, stop=5, step=1)\n",
      "['2019-01-02' 3.14 'ABC' 100 True]\n"
     ]
    }
   ],
   "source": [
    "# 시리즈 인덱스\n",
    "import pandas as pd\n",
    "\n",
    "list_data = ['2019-01-02', 3.14, 'ABC', 100, True]\n",
    "sr = pd.Series(list_data)\n",
    "print(sr)\n",
    "print('\\n')\n",
    "\n",
    "idx = sr.index\n",
    "val = sr.values\n",
    "print(idx)\n",
    "print(val)"
   ]
  },
  {
   "cell_type": "code",
   "execution_count": 4,
   "metadata": {},
   "outputs": [
    {
     "name": "stdout",
     "output_type": "stream",
     "text": [
      "이름              영인\n",
      "생년월일    2010-05-01\n",
      "성별               여\n",
      "학생여부          True\n",
      "dtype: object\n",
      "\n",
      "\n",
      "영인\n",
      "영인\n",
      "\n",
      "\n",
      "생년월일    2010-05-01\n",
      "성별               여\n",
      "dtype: object\n",
      "생년월일    2010-05-01\n",
      "성별               여\n",
      "dtype: object\n",
      "\n",
      "\n",
      "생년월일    2010-05-01\n",
      "dtype: object\n",
      "생년월일    2010-05-01\n",
      "성별               여\n",
      "dtype: object\n"
     ]
    }
   ],
   "source": [
    "# 시리즈 원소 선택\n",
    "import pandas as pd\n",
    "\n",
    "# 튜플을 시리즈로 변환(인덱스 옵션 지정)\n",
    "tup_data = ('영인', '2010-05-01', '여', True)\n",
    "sr = pd.Series(tup_data, index=['이름', '생년월일', '성별', '학생여부'])\n",
    "print(sr)\n",
    "print('\\n')\n",
    "\n",
    "# 원소를 1개 선택\n",
    "print(sr[0])\n",
    "print(sr['이름'])\n",
    "print('\\n')\n",
    "\n",
    "# 여러 개의 원소를 선택(인덱스 리스트 활용)\n",
    "print(sr[[1,2]])\n",
    "print(sr[['생년월일','성별']])\n",
    "print('\\n')\n",
    "\n",
    "# 여러 개의 원소를 선택(인덱스 범위 지정)\n",
    "print(sr[1:2])\n",
    "print(sr['생년월일':'성별'])"
   ]
  },
  {
   "cell_type": "markdown",
   "metadata": {},
   "source": [
    "#### 2-2. 데이터프레임\n",
    "* 데이터프레임은 행과 열로 만들어지는 2차원 배열 구조로 마이크로소프트 엑셀과 관계형 데이터베이스 등 컴퓨터 관련 다양한 분야에서 사용된다."
   ]
  },
  {
   "cell_type": "code",
   "execution_count": 7,
   "metadata": {},
   "outputs": [
    {
     "name": "stdout",
     "output_type": "stream",
     "text": [
      "<class 'pandas.core.frame.DataFrame'>\n",
      "   c0  c1  c2  c3  c4\n",
      "0   1   4   7  10  13\n",
      "1   2   5   8  11  14\n",
      "2   3   6   9  12  15\n"
     ]
    }
   ],
   "source": [
    "# 딕셔너리 → 데이터프레임 변환\n",
    "import pandas as pd\n",
    "\n",
    "# 열이름을 key로 하고, 리스트를 value로 갖는 딕셔너리 정의(2차원 배열)\n",
    "dict_data = {'c0':[1,2,3], 'c1':[4,5,6], 'c2':[7,8,9], 'c3':[10,11,12], 'c4':[13,14,15]}\n",
    "\n",
    "# 판다스 DataFrame() 함수로 딕셔너리를 데이터프레임으로 변환. 변수 df에 저장\n",
    "df = pd.DataFrame(dict_data)\n",
    "\n",
    "# df의 자료형 출력\n",
    "print(type(df))\n",
    "print(df)"
   ]
  },
  {
   "cell_type": "code",
   "execution_count": 11,
   "metadata": {},
   "outputs": [
    {
     "name": "stdout",
     "output_type": "stream",
     "text": [
      "    나이 성별   학교\n",
      "준서  15  남  덕영중\n",
      "예은  17  여  수리중\n",
      "Index(['준서', '예은'], dtype='object')\n",
      "Index(['나이', '성별', '학교'], dtype='object')\n"
     ]
    }
   ],
   "source": [
    "# 행 인덱스/열 이름 설정\n",
    "import pandas as dpd\n",
    "\n",
    "df = pd.DataFrame([[15,'남','덕영중'], [17,'여','수리중']],\n",
    "                   index=['준서', '예은'],\n",
    "                   columns=['나이','성별','학교'])\n",
    "\n",
    "# 행 인덱스, 열 이름 확인하기\n",
    "print(df)\n",
    "print(df.index)\n",
    "print(df.columns)\n",
    "\n",
    "df.index=['학생1','학생2']\n",
    "df.columns=['연령','남녀','소속']"
   ]
  },
  {
   "cell_type": "code",
   "execution_count": 12,
   "metadata": {},
   "outputs": [
    {
     "name": "stdout",
     "output_type": "stream",
     "text": [
      "     연령 남녀   소속\n",
      "학생1  15  남  덕영중\n",
      "학생2  17  여  수리중\n"
     ]
    }
   ],
   "source": [
    "# 행 인덱스/열 이름 변경\n",
    "import pandas as pd\n",
    "\n",
    "df = pd.DataFrame([[15,'남','덕영중'], [17,'여','수리중']],\n",
    "                   index=['준서', '예은'],\n",
    "                   columns=['나이','성별','학교'])\n",
    "\n",
    "df.rename(columns={'나이':'연령', '성별':'남녀', '학교':'소속'}, inplace=True)\n",
    "\n",
    "df.rename(index={'준서':'학생1', '예은':'학생2'}, inplace=True)\n",
    "\n",
    "print(df)"
   ]
  },
  {
   "cell_type": "code",
   "execution_count": 7,
   "metadata": {},
   "outputs": [
    {
     "name": "stdout",
     "output_type": "stream",
     "text": [
      "    수학  영어   음악   체육\n",
      "서준  90  98   85  100\n",
      "우현  80  89   95   90\n",
      "인아  70  95  100   90\n",
      "\n",
      "\n",
      "    수학  영어   음악   체육\n",
      "서준  90  98   85  100\n",
      "인아  70  95  100   90\n",
      "\n",
      "\n",
      "    수학  영어  음악   체육\n",
      "서준  90  98  85  100\n"
     ]
    },
    {
     "name": "stderr",
     "output_type": "stream",
     "text": [
      "C:\\Users\\dpdnj\\anaconda3\\lib\\site-packages\\pandas\\core\\frame.py:4906: SettingWithCopyWarning: \n",
      "A value is trying to be set on a copy of a slice from a DataFrame\n",
      "\n",
      "See the caveats in the documentation: https://pandas.pydata.org/pandas-docs/stable/user_guide/indexing.html#returning-a-view-versus-a-copy\n",
      "  return super().drop(\n",
      "C:\\Users\\dpdnj\\anaconda3\\lib\\site-packages\\pandas\\core\\frame.py:4906: SettingWithCopyWarning: \n",
      "A value is trying to be set on a copy of a slice from a DataFrame\n",
      "\n",
      "See the caveats in the documentation: https://pandas.pydata.org/pandas-docs/stable/user_guide/indexing.html#returning-a-view-versus-a-copy\n",
      "  return super().drop(\n"
     ]
    }
   ],
   "source": [
    "# 행 삭제\n",
    "import pandas as pd\n",
    "\n",
    "exam_data = {'수학':[90,80,70], '영어':[98,89,95], '음악':[85,95,100], '체육':[100,90,90]}\n",
    "df = pd.DataFrame(exam_data, index=['서준', '우현', '인아'])\n",
    "print(df)\n",
    "print('\\n')\n",
    "\n",
    "df2 = df[:]\n",
    "df2.drop('우현', inplace=True)\n",
    "print(df2)\n",
    "print('\\n')\n",
    "\n",
    "df3 = df[:]\n",
    "df3.drop(['우현','인아'], axis=0, inplace=True)\n",
    "print(df3)"
   ]
  },
  {
   "cell_type": "code",
   "execution_count": 8,
   "metadata": {},
   "outputs": [
    {
     "name": "stdout",
     "output_type": "stream",
     "text": [
      "    수학  영어   음악   체육\n",
      "서준  90  98   85  100\n",
      "우현  80  89   95   90\n",
      "인아  70  95  100   90\n",
      "\n",
      "\n",
      "    영어   음악   체육\n",
      "서준  98   85  100\n",
      "우현  89   95   90\n",
      "인아  95  100   90\n",
      "\n",
      "\n",
      "    수학   체육\n",
      "서준  90  100\n",
      "우현  80   90\n",
      "인아  70   90\n"
     ]
    }
   ],
   "source": [
    "# 열 삭제\n",
    "import pandas as pd\n",
    "\n",
    "exam_data = {'수학':[90,80,70], '영어':[98,89,95], '음악':[85,95,100], '체육':[100,90,90]}\n",
    "df = pd.DataFrame(exam_data, index=['서준', '우현', '인아'])\n",
    "print(df)\n",
    "print('\\n')\n",
    "\n",
    "df4 = df.copy()\n",
    "df4.drop('수학', axis=1, inplace=True)\n",
    "print(df4)\n",
    "print('\\n')\n",
    "\n",
    "df5 = df.copy()\n",
    "df5.drop(['영어', '음악'], axis=1, inplace=True)\n",
    "print(df5)"
   ]
  },
  {
   "cell_type": "code",
   "execution_count": 15,
   "metadata": {},
   "outputs": [
    {
     "name": "stdout",
     "output_type": "stream",
     "text": [
      "    수학  영어   음악   체육\n",
      "서준  90  98   85  100\n",
      "우현  80  89   95   90\n",
      "인아  70  95  100   90\n",
      "\n",
      "\n",
      "수학     90\n",
      "영어     98\n",
      "음악     85\n",
      "체육    100\n",
      "Name: 서준, dtype: int64\n",
      "\n",
      "\n",
      "수학     90\n",
      "영어     98\n",
      "음악     85\n",
      "체육    100\n",
      "Name: 서준, dtype: int64\n",
      "\n",
      "\n",
      "    수학  영어  음악   체육\n",
      "서준  90  98  85  100\n",
      "우현  80  89  95   90\n",
      "\n",
      "\n",
      "    수학  영어  음악   체육\n",
      "서준  90  98  85  100\n",
      "우현  80  89  95   90\n",
      "\n",
      "\n",
      "    수학  영어  음악   체육\n",
      "서준  90  98  85  100\n",
      "우현  80  89  95   90\n",
      "\n",
      "\n",
      "    수학  영어  음악   체육\n",
      "서준  90  98  85  100\n"
     ]
    }
   ],
   "source": [
    "# 행 선택\n",
    "# 데이터프레임의 행 데이터를 선택하기 위해서는 loc(인덱스 이름)와 iloc(정수형 위치 인덱스) 인덱서를 사용한다.\n",
    "import pandas as pd\n",
    "\n",
    "exam_data = {'수학':[90,80,70], '영어':[98,89,95], '음악':[85,95,100], '체육':[100,90,90]}\n",
    "df = pd.DataFrame(exam_data, index=['서준', '우현', '인아'])\n",
    "print(df)\n",
    "print('\\n')\n",
    "\n",
    "label1 = df.loc['서준']\n",
    "position1 = df.iloc[0]\n",
    "print(label1)\n",
    "print('\\n')\n",
    "print(position1)\n",
    "print('\\n')\n",
    "\n",
    "label2 = df.loc[['서준','우현']]\n",
    "position2 = df.iloc[[0,1]]\n",
    "print(label2)\n",
    "print('\\n')\n",
    "print(position2)\n",
    "print('\\n')\n",
    "\n",
    "# 인덱스 이름을 범위로 지정한 label3의 경우에는 범위의 마지막 값인 '우현' 학생의 점수가 포함되지만, 정수형 위치 인덱스를 사용한 position3에는 범위의 마지막 값인 '우현' 학생의 점수가 제외된다.\n",
    "label3 = df.loc['서준':'우현']\n",
    "position3 = df.iloc[0:1]\n",
    "print(label3)\n",
    "print('\\n')\n",
    "print(position3)"
   ]
  },
  {
   "cell_type": "code",
   "execution_count": 17,
   "metadata": {},
   "outputs": [
    {
     "name": "stdout",
     "output_type": "stream",
     "text": [
      "   이름  수학  영어   음악   체육\n",
      "0  서준  90  98   85  100\n",
      "1  우현  80  89   95   90\n",
      "2  인아  70  70  100   90\n",
      "<class 'pandas.core.frame.DataFrame'>\n",
      "\n",
      "\n",
      "0    90\n",
      "1    80\n",
      "2    70\n",
      "Name: 수학, dtype: int64\n",
      "<class 'pandas.core.series.Series'>\n",
      "\n",
      "\n",
      "0    98\n",
      "1    89\n",
      "2    70\n",
      "Name: 영어, dtype: int64\n",
      "<class 'pandas.core.series.Series'>\n",
      "\n",
      "\n",
      "    음악   체육\n",
      "0   85  100\n",
      "1   95   90\n",
      "2  100   90\n",
      "<class 'pandas.core.frame.DataFrame'>\n",
      "\n",
      "\n",
      "   수학\n",
      "0  90\n",
      "1  80\n",
      "2  70\n",
      "<class 'pandas.core.frame.DataFrame'>\n"
     ]
    }
   ],
   "source": [
    "# 열 선택\n",
    "import pandas as pd\n",
    "\n",
    "exam_data = {'이름':['서준','우현','인아'],\n",
    "             '수학':[90,80,70],\n",
    "             '영어':[98,89,70],\n",
    "             '음악':[85,95,100],\n",
    "             '체육':[100,90,90]}\n",
    "df = pd.DataFrame(exam_data)\n",
    "print(df)\n",
    "print(type(df))\n",
    "print('\\n')\n",
    "\n",
    "math1 = df['수학']\n",
    "print(math1)\n",
    "print(type(math1))\n",
    "print('\\n')\n",
    "\n",
    "english = df.영어\n",
    "print(english)\n",
    "print(type(english))\n",
    "print('\\n')\n",
    "\n",
    "music_gym = df[['음악','체육']]\n",
    "print(music_gym)\n",
    "print(type(music_gym))\n",
    "print('\\n')\n",
    "\n",
    "math2 = df[['수학']]\n",
    "print(math2)\n",
    "print(type(math2))"
   ]
  },
  {
   "cell_type": "code",
   "execution_count": 25,
   "metadata": {},
   "outputs": [
    {
     "name": "stdout",
     "output_type": "stream",
     "text": [
      "    수학  영어   음악   체육\n",
      "이름                  \n",
      "서준  90  98   85  100\n",
      "우현  80  89   95   90\n",
      "인아  70  70  100   90\n",
      "\n",
      "\n",
      "85\n",
      "85\n",
      "\n",
      "\n",
      "음악     85\n",
      "체육    100\n",
      "Name: 서준, dtype: int64\n",
      "음악     85\n",
      "체육    100\n",
      "Name: 서준, dtype: int64\n",
      "음악     85\n",
      "체육    100\n",
      "Name: 서준, dtype: int64\n",
      "음악     85\n",
      "체육    100\n",
      "Name: 서준, dtype: int64\n",
      "\n",
      "\n",
      "    음악   체육\n",
      "이름         \n",
      "서준  85  100\n",
      "우현  95   90\n",
      "    음악   체육\n",
      "이름         \n",
      "서준  85  100\n",
      "우현  95   90\n",
      "    음악   체육\n",
      "이름         \n",
      "서준  85  100\n",
      "우현  95   90\n",
      "    음악   체육\n",
      "이름         \n",
      "서준  85  100\n",
      "우현  95   90\n"
     ]
    }
   ],
   "source": [
    "# 원소 선택\n",
    "import pandas as pd\n",
    "\n",
    "exam_data = {'이름':['서준','우현','인아'],\n",
    "             '수학':[90,80,70],\n",
    "             '영어':[98,89,70],\n",
    "             '음악':[85,95,100],\n",
    "             '체육':[100,90,90]}\n",
    "df = pd.DataFrame(exam_data)\n",
    "\n",
    "# '이름' 열을 새로운 인덱스로 지정하고, df 객체에 변경 사항 반영\n",
    "df.set_index('이름', inplace=True)\n",
    "print(df)\n",
    "print('\\n')\n",
    "\n",
    "a = df.loc['서준', '음악']\n",
    "print(a)\n",
    "b = df.iloc[0,2]\n",
    "print(b)\n",
    "print('\\n')\n",
    "\n",
    "# 데이터프레임 df의 특정 원소 2개 이상 선택('서준'의 '음악','체육' 점수)\n",
    "c = df.loc['서준',['음악','체육']]\n",
    "print(c)\n",
    "d = df.iloc[0,[2,3]]\n",
    "print(d)\n",
    "e = df.loc['서준','음악':'체육']\n",
    "print(e)\n",
    "f = df.iloc[0,2:]\n",
    "print(f)\n",
    "print('\\n')\n",
    "\n",
    "# df 2개 이상의 행과 열에 속하는 원소들 선택('서준', '우현'의 '음악','체육' 점수)\n",
    "g = df.loc[['서준','우현'], ['음악','체육']]\n",
    "print(g)\n",
    "h = df.iloc[[0,1], [2,3]]\n",
    "print(h)\n",
    "i = df.loc['서준':'우현','음악':'체육']\n",
    "print(i)\n",
    "j = df.iloc[0:2, 2:]\n",
    "print(j)"
   ]
  },
  {
   "cell_type": "markdown",
   "metadata": {},
   "source": [
    "* 인덱스 이름: DataFrame 객체.loc[행 인덱스, 열 이름]\n",
    "* 정수 위치 인덱스: DataFrame 객체.iloc[행 번호, 열 번호]"
   ]
  },
  {
   "cell_type": "code",
   "execution_count": 28,
   "metadata": {},
   "outputs": [
    {
     "name": "stdout",
     "output_type": "stream",
     "text": [
      "   이름  수학  영어   음악   체육\n",
      "0  서준  90  98   85  100\n",
      "1  우현  80  89   95   90\n",
      "2  인아  70  70  100   90\n",
      "\n",
      "\n",
      "   이름  수학  영어   음악   체육  국어\n",
      "0  서준  90  98   85  100  80\n",
      "1  우현  80  89   95   90  80\n",
      "2  인아  70  70  100   90  80\n"
     ]
    }
   ],
   "source": [
    "# 열 추가\n",
    "import pandas as pd\n",
    "\n",
    "exam_data = {'이름':['서준','우현','인아'],\n",
    "             '수학':[90,80,70],\n",
    "             '영어':[98,89,70],\n",
    "             '음악':[85,95,100],\n",
    "             '체육':[100,90,90]}\n",
    "df = pd.DataFrame(exam_data)\n",
    "print(df)\n",
    "print('\\n')\n",
    "\n",
    "# 데이터프레임 df에 '국어' 점수 열(column) 추가. 데이터 값은 80 지정\n",
    "df['국어'] = 80\n",
    "print(df)"
   ]
  },
  {
   "cell_type": "code",
   "execution_count": 29,
   "metadata": {},
   "outputs": [
    {
     "name": "stdout",
     "output_type": "stream",
     "text": [
      "   이름  수학  영어   음악   체육\n",
      "0  서준  90  98   85  100\n",
      "1  우현  80  89   95   90\n",
      "2  인아  70  70  100   90\n",
      "\n",
      "\n",
      "   이름  수학  영어   음악   체육\n",
      "0  서준  90  98   85  100\n",
      "1  우현  80  89   95   90\n",
      "2  인아  70  70  100   90\n",
      "3   0   0   0    0    0\n",
      "\n",
      "\n",
      "   이름  수학  영어   음악   체육\n",
      "0  서준  90  98   85  100\n",
      "1  우현  80  89   95   90\n",
      "2  인아  70  70  100   90\n",
      "3   0   0   0    0    0\n",
      "4  동규  90  80   70   60\n",
      "\n",
      "\n",
      "    이름  수학  영어   음악   체육\n",
      "0   서준  90  98   85  100\n",
      "1   우현  80  89   95   90\n",
      "2   인아  70  70  100   90\n",
      "3    0   0   0    0    0\n",
      "4   동규  90  80   70   60\n",
      "행5   0   0   0    0    0\n"
     ]
    }
   ],
   "source": [
    "# 행 추가\n",
    "import pandas as pd\n",
    "\n",
    "exam_data = {'이름':['서준','우현','인아'],\n",
    "             '수학':[90,80,70],\n",
    "             '영어':[98,89,70],\n",
    "             '음악':[85,95,100],\n",
    "             '체육':[100,90,90]}\n",
    "df = pd.DataFrame(exam_data)\n",
    "print(df)\n",
    "print('\\n')\n",
    "\n",
    "# 새로운 행(row) 추가 - 같은 원소 값 입력\n",
    "df.loc[3] = 0\n",
    "print(df)\n",
    "print('\\n')\n",
    "\n",
    "# 새로운 행(row) 추가 - 원소 값 여러 개의 배열 입력\n",
    "df.loc[4] = ['동규',90,80,70,60]\n",
    "print(df)\n",
    "print('\\n')\n",
    "\n",
    "# 새로운 행(row) 추가 - 기존 행 복사\n",
    "df.loc['행5'] = df.loc[3]\n",
    "print(df)"
   ]
  },
  {
   "cell_type": "markdown",
   "metadata": {},
   "source": [
    "* 행 추가: DataFrame.loc['새로운 행 이름'] = 데이터 값(또는 배열)"
   ]
  },
  {
   "cell_type": "code",
   "execution_count": 33,
   "metadata": {},
   "outputs": [
    {
     "name": "stdout",
     "output_type": "stream",
     "text": [
      "   이름  수학  영어   음악   체육\n",
      "0  서준  90  98   85  100\n",
      "1  우현  80  89   95   90\n",
      "2  인아  70  70  100   90\n",
      "\n",
      "\n",
      "    수학  영어   음악   체육\n",
      "이름                  \n",
      "서준  90  98   85  100\n",
      "우현  80  89   95   90\n",
      "인아  70  70  100   90\n",
      "\n",
      "\n",
      "    수학  영어   음악  체육\n",
      "이름                 \n",
      "서준  90  98   85  80\n",
      "우현  80  89   95  90\n",
      "인아  70  70  100  90\n",
      "\n",
      "\n",
      "    수학  영어   음악  체육\n",
      "이름                 \n",
      "서준  90  98   85  90\n",
      "우현  80  89   95  90\n",
      "인아  70  70  100  90\n",
      "\n",
      "\n",
      "    수학  영어   음악   체육\n",
      "이름                  \n",
      "서준  90  98   85  100\n",
      "우현  80  89   95   90\n",
      "인아  70  70  100   90\n",
      "\n",
      "\n",
      "    수학  영어   음악  체육\n",
      "이름                 \n",
      "서준  90  98   50  50\n",
      "우현  80  89   95  90\n",
      "인아  70  70  100  90\n",
      "\n",
      "\n",
      "    수학  영어   음악  체육\n",
      "이름                 \n",
      "서준  90  98  100  50\n",
      "우현  80  89   95  90\n",
      "인아  70  70  100  90\n"
     ]
    }
   ],
   "source": [
    "# 원소 값 변경\n",
    "import pandas as pd\n",
    "\n",
    "exam_data = {'이름':['서준','우현','인아'],\n",
    "             '수학':[90,80,70],\n",
    "             '영어':[98,89,70],\n",
    "             '음악':[85,95,100],\n",
    "             '체육':[100,90,90]}\n",
    "df = pd.DataFrame(exam_data)\n",
    "print(df)\n",
    "print('\\n')\n",
    "\n",
    "df.set_index('이름', inplace=True)\n",
    "print(df)\n",
    "print('\\n')\n",
    "\n",
    "# 데이터프레임 df의 특정 원소를 변경하는 방법: '서준'의 '체육' 점수\n",
    "df.iloc[0][3] = 80\n",
    "print(df)\n",
    "print('\\n')\n",
    "\n",
    "df.loc['서준']['체육'] = 90\n",
    "print(df)\n",
    "print('\\n')\n",
    "\n",
    "df.loc['서준','체육'] = 100\n",
    "print(df)\n",
    "print('\\n')\n",
    "\n",
    "# 데이터프레임 df의 원소 여러 개를 변경하는 방법: '서준'의 '음악','체육' 점수\n",
    "df.loc['서준', ['음악','체육']] = 50\n",
    "print(df)\n",
    "print('\\n')\n",
    "\n",
    "df.loc['서준', ['음악','체육']] = 100, 50\n",
    "print(df)"
   ]
  },
  {
   "cell_type": "code",
   "execution_count": 34,
   "metadata": {},
   "outputs": [
    {
     "name": "stdout",
     "output_type": "stream",
     "text": [
      "   이름  수학  영어   음악   체육\n",
      "0  서준  90  98   85  100\n",
      "1  우현  80  89   95   90\n",
      "2  인아  70  70  100   90\n",
      "\n",
      "\n",
      "      0   1    2\n",
      "이름   서준  우현   인아\n",
      "수학   90  80   70\n",
      "영어   98  89   70\n",
      "음악   85  95  100\n",
      "체육  100  90   90\n",
      "\n",
      "\n",
      "   이름  수학  영어   음악   체육\n",
      "0  서준  90  98   85  100\n",
      "1  우현  80  89   95   90\n",
      "2  인아  70  70  100   90\n"
     ]
    }
   ],
   "source": [
    "# 행, 열 바꾸기\n",
    "import pandas as pd\n",
    "\n",
    "exam_data = {'이름':['서준','우현','인아'],\n",
    "             '수학':[90,80,70],\n",
    "             '영어':[98,89,70],\n",
    "             '음악':[85,95,100],\n",
    "             '체육':[100,90,90]}\n",
    "df = pd.DataFrame(exam_data)\n",
    "print(df)\n",
    "print('\\n')\n",
    "\n",
    "# 데이터프레임 df를 전치하기(메소드 활용)\n",
    "df = df.transpose()\n",
    "print(df)\n",
    "print('\\n')\n",
    "\n",
    "# 데이터프레임 df를 다시 전치하기(클래스 속성 활용)\n",
    "df = df.T\n",
    "print(df)"
   ]
  },
  {
   "cell_type": "markdown",
   "metadata": {},
   "source": [
    "* 행, 열 바꾸기: DataFrame 객체.transpose() 또는 DataFrame 객체.T"
   ]
  },
  {
   "cell_type": "markdown",
   "metadata": {},
   "source": [
    "### 3. 인덱스 활용"
   ]
  },
  {
   "cell_type": "code",
   "execution_count": 36,
   "metadata": {},
   "outputs": [
    {
     "name": "stdout",
     "output_type": "stream",
     "text": [
      "   이름  수학  영어   음악   체육\n",
      "0  서준  90  98   85  100\n",
      "1  우현  80  89   95   90\n",
      "2  인아  70  70  100   90\n",
      "\n",
      "\n",
      "    수학  영어   음악   체육\n",
      "이름                  \n",
      "서준  90  98   85  100\n",
      "우현  80  89   95   90\n",
      "인아  70  70  100   90\n",
      "\n",
      "\n",
      "     수학  영어   체육\n",
      "음악              \n",
      "85   90  98  100\n",
      "95   80  89   90\n",
      "100  70  70   90\n",
      "\n",
      "\n",
      "        영어   체육\n",
      "수학 음악          \n",
      "90 85   98  100\n",
      "80 95   89   90\n",
      "70 100  70   90\n"
     ]
    }
   ],
   "source": [
    "# 특정 열을 행 인덱스로 설정\n",
    "import pandas as pd\n",
    "\n",
    "exam_data = {'이름':['서준','우현','인아'],\n",
    "             '수학':[90,80,70],\n",
    "             '영어':[98,89,70],\n",
    "             '음악':[85,95,100],\n",
    "             '체육':[100,90,90]}\n",
    "df = pd.DataFrame(exam_data)\n",
    "print(df)\n",
    "print('\\n')\n",
    "\n",
    "# 특정 열(column)을 데이터프레임의 행 인덱스(index)로 설정\n",
    "# set_index() 메소드를 사용하여 행 인덱스를 새로 지정하면 기존 행 인덱스는 삭제된다.\n",
    "ndf = df.set_index(['이름'])\n",
    "print(ndf)\n",
    "print('\\n')\n",
    "ndf2 = ndf.set_index('음악')\n",
    "print(ndf2)\n",
    "print('\\n')\n",
    "ndf3 = ndf.set_index(['수학','음악'])\n",
    "print(ndf3)"
   ]
  },
  {
   "cell_type": "code",
   "execution_count": 38,
   "metadata": {},
   "outputs": [
    {
     "name": "stdout",
     "output_type": "stream",
     "text": [
      "    c0  c1  c2  c3  c4\n",
      "r0   1   4   7  10  13\n",
      "r1   2   5   8  11  14\n",
      "r2   3   6   9  12  15\n",
      "\n",
      "\n",
      "     c0   c1   c2    c3    c4\n",
      "r0  1.0  4.0  7.0  10.0  13.0\n",
      "r1  2.0  5.0  8.0  11.0  14.0\n",
      "r2  3.0  6.0  9.0  12.0  15.0\n",
      "r3  NaN  NaN  NaN   NaN   NaN\n",
      "r4  NaN  NaN  NaN   NaN   NaN\n",
      "\n",
      "\n",
      "    c0  c1  c2  c3  c4\n",
      "r0   1   4   7  10  13\n",
      "r1   2   5   8  11  14\n",
      "r2   3   6   9  12  15\n",
      "r3   0   0   0   0   0\n",
      "r4   0   0   0   0   0\n"
     ]
    }
   ],
   "source": [
    "# 행 인덱스 재배열\n",
    "import pandas as pd\n",
    "\n",
    "# 딕셔너리 정의\n",
    "dict_data = {'c0':[1,2,3], 'c1':[4,5,6],'c2':[7,8,9],'c3':[10,11,12],'c4':[13,14,15]}\n",
    "\n",
    "# 딕셔너리를 데이터 프레임으로 변환.\n",
    "df = pd.DataFrame(dict_data, index=['r0','r1','r2'])\n",
    "print(df)\n",
    "print('\\n')\n",
    "\n",
    "new_index = ['r0','r1','r2','r3','r4']\n",
    "ndf = df.reindex(new_index)\n",
    "print(ndf)\n",
    "print('\\n')\n",
    "\n",
    "new_index = ['r0','r1','r2','r3','r4']\n",
    "ndf2 = df.reindex(new_index, fill_value=0)\n",
    "print(ndf2)"
   ]
  },
  {
   "cell_type": "code",
   "execution_count": 40,
   "metadata": {},
   "outputs": [
    {
     "name": "stdout",
     "output_type": "stream",
     "text": [
      "    c0  c1  c2  c3  c4\n",
      "r0   1   4   7  10  13\n",
      "r1   2   5   8  11  14\n",
      "r2   3   6   9  12  15\n",
      "\n",
      "\n",
      "  index  c0  c1  c2  c3  c4\n",
      "0    r0   1   4   7  10  13\n",
      "1    r1   2   5   8  11  14\n",
      "2    r2   3   6   9  12  15\n"
     ]
    }
   ],
   "source": [
    "# 행 인덱스 초기화\n",
    "# reset_index() 메소드를 활용하여 행 인덱스를 정수형 위치 인덱스로 초기화하고, 이때 기존 행 인덱스는 열로 이동한다.\n",
    "import pandas as pd\n",
    "\n",
    "dict_data = {'c0':[1,2,3], 'c1':[4,5,6],'c2':[7,8,9],'c3':[10,11,12],'c4':[13,14,15]}\n",
    "\n",
    "df = pd.DataFrame(dict_data, index=['r0','r1','r2'])\n",
    "print(df)\n",
    "print('\\n')\n",
    "\n",
    "# 행 인덱스를 정수형으로 초기화\n",
    "ndf = df.reset_index()\n",
    "print(ndf)"
   ]
  },
  {
   "cell_type": "code",
   "execution_count": 41,
   "metadata": {},
   "outputs": [
    {
     "name": "stdout",
     "output_type": "stream",
     "text": [
      "    c0  c1  c2  c3  c4\n",
      "r0   1   4   7  10  13\n",
      "r1   2   5   8  11  14\n",
      "r2   3   6   9  12  15\n",
      "\n",
      "\n",
      "    c0  c1  c2  c3  c4\n",
      "r2   3   6   9  12  15\n",
      "r1   2   5   8  11  14\n",
      "r0   1   4   7  10  13\n"
     ]
    }
   ],
   "source": [
    "# 데이터 프레임 정렬\n",
    "# sort_index() 메소드를 화룡하여 행 인덱스를 기준으로 데이터프레임의 값을 정렬한다.\n",
    "import pandas as pd\n",
    "\n",
    "dict_data = {'c0':[1,2,3], 'c1':[4,5,6],'c2':[7,8,9],'c3':[10,11,12],'c4':[13,14,15]}\n",
    "\n",
    "df = pd.DataFrame(dict_data, index=['r0','r1','r2'])\n",
    "print(df)\n",
    "print('\\n')\n",
    "\n",
    "# 내림차순으로 행 인덱스 정렬\n",
    "ndf = df.sort_index(ascending=False)\n",
    "print(ndf)"
   ]
  },
  {
   "cell_type": "code",
   "execution_count": 42,
   "metadata": {},
   "outputs": [
    {
     "name": "stdout",
     "output_type": "stream",
     "text": [
      "    c0  c1  c2  c3  c4\n",
      "r0   1   4   7  10  13\n",
      "r1   2   5   8  11  14\n",
      "r2   3   6   9  12  15\n",
      "\n",
      "\n",
      "    c0  c1  c2  c3  c4\n",
      "r2   3   6   9  12  15\n",
      "r1   2   5   8  11  14\n",
      "r0   1   4   7  10  13\n"
     ]
    }
   ],
   "source": [
    "# 특정 열의 데이터 값을 기준으로 데이터프레임 정렬하기\n",
    "# 'c1' 열을 기준으로 데이터프레임을 내림차순 정렬한다.\n",
    "import pandas as pd\n",
    "\n",
    "dict_data = {'c0':[1,2,3], 'c1':[4,5,6],'c2':[7,8,9],'c3':[10,11,12],'c4':[13,14,15]}\n",
    "\n",
    "df = pd.DataFrame(dict_data, index=['r0','r1','r2'])\n",
    "print(df)\n",
    "print('\\n')\n",
    "\n",
    "# c1 열을 기준으로 내림차순 정렬\n",
    "ndf = df.sort_values(by='c1', ascending=False)\n",
    "print(ndf)"
   ]
  },
  {
   "cell_type": "markdown",
   "metadata": {},
   "source": [
    "### 4. 산술연산\n",
    "* 판다스 객체의 산술연산은 내부적으로 3단계 프로세스를 거친다.\n",
    "#### ① 행/열 인덱스를 기준으로 모든 원소를 정렬한다.\n",
    "#### ② 동일한 위치에 있는 원소끼리 일대일로 대응시킨다.\n",
    "#### ③ 일대일 대응이 되는 원소끼리 연산을 처리한다.(단, 이때 대응되는 원소가 없으면 NaN으로 처리한다.)"
   ]
  },
  {
   "cell_type": "markdown",
   "metadata": {},
   "source": [
    "#### 4-1. 시리즈 연산\n",
    "* 시리즈 객체에 어떤 숫자를 더하면 시리즈의 개별 원소에 각각 숫자를 더하고 계산한 결과를 시리즈 객체로 반환한다.\n",
    "* 덧셈, 뺄셈, 곱셈, 나눗셈 모두 가능하다."
   ]
  },
  {
   "cell_type": "code",
   "execution_count": 44,
   "metadata": {},
   "outputs": [
    {
     "name": "stdout",
     "output_type": "stream",
     "text": [
      "국어    100\n",
      "영어     80\n",
      "수학     90\n",
      "dtype: int64\n",
      "\n",
      "\n",
      "국어    0.50\n",
      "영어    0.40\n",
      "수학    0.45\n",
      "dtype: float64\n",
      "\n",
      "\n",
      "<class 'pandas.core.series.Series'>\n"
     ]
    }
   ],
   "source": [
    "# 시리즈를 숫자로 나누기\n",
    "import pandas as pd\n",
    "\n",
    "student1 = pd.Series({'국어':100, '영어':80, '수학':90})\n",
    "print(student1)\n",
    "print('\\n')\n",
    "\n",
    "percentage = student1/200\n",
    "\n",
    "print(percentage)\n",
    "print('\\n')\n",
    "print(type(percentage))"
   ]
  },
  {
   "cell_type": "code",
   "execution_count": 47,
   "metadata": {},
   "outputs": [
    {
     "name": "stdout",
     "output_type": "stream",
     "text": [
      "국어    100\n",
      "영어     80\n",
      "수학     90\n",
      "dtype: int64\n",
      "\n",
      "\n",
      "수학    80\n",
      "국어    90\n",
      "영어    80\n",
      "dtype: int64\n",
      "\n",
      "\n",
      "<class 'pandas.core.series.Series'>\n",
      "\n",
      "\n",
      "              국어        수학      영어\n",
      "덧셈    190.000000   170.000   160.0\n",
      "뺄셈     10.000000    10.000     0.0\n",
      "곱셈   9000.000000  7200.000  6400.0\n",
      "나눗셈     1.111111     1.125     1.0\n"
     ]
    }
   ],
   "source": [
    "# 시리즈 사칙연산\n",
    "import pandas as pd\n",
    "\n",
    "# 딕셔너리 데이터로 판다스 시리즈 만들기\n",
    "student1 = pd.Series({'국어':100, '영어':80, '수학':90})\n",
    "student2 = pd.Series({'수학':80, '국어':90, '영어':80})\n",
    "print(student1)\n",
    "print('\\n')\n",
    "print(student2)\n",
    "print('\\n')\n",
    "\n",
    "# 두 학생의 과목별 점수로 사칙연산 수행\n",
    "# 인덱스로 주어진 과목명의 순서가 다르지만, 판다스는 같은 과목명(인덱스)을 찾아 정렬한 후 같은 과목명(인덱스)의 점수끼리 연산을 한다.\n",
    "addition = student1 + student2\n",
    "subtraction = student1 - student2\n",
    "multiplication = student1 * student2\n",
    "division = student1 / student2\n",
    "print(type(division))\n",
    "print('\\n')\n",
    "\n",
    "# 사칙연산 결과를 데이터프레임으로 합치기(시리즈 → 데이터프레임)\n",
    "result = pd.DataFrame([addition, subtraction, multiplication, division], index=['덧셈', '뺄셈', '곱셈', '나눗셈'])\n",
    "print(result)"
   ]
  },
  {
   "cell_type": "code",
   "execution_count": 48,
   "metadata": {},
   "outputs": [
    {
     "name": "stdout",
     "output_type": "stream",
     "text": [
      "<class 'pandas.core.series.Series'>\n",
      "\n",
      "\n",
      "     국어        수학  영어\n",
      "덧셈  NaN   170.000 NaN\n",
      "뺄셈  NaN    10.000 NaN\n",
      "곱셈  NaN  7200.000 NaN\n",
      "나눗셈 NaN     1.125 NaN\n"
     ]
    }
   ],
   "source": [
    "# NaN 값이 있는 시리즈 연산\n",
    "import pandas as pd\n",
    "import numpy as np\n",
    "\n",
    "# 딕셔너리 데이터로 판다스 시리즈 만들기\n",
    "student1 = pd.Series({'국어':np.nan, '영어':80, '수학':90})\n",
    "student2 = pd.Series({'수학':80, '국어':90})\n",
    "\n",
    "# 두 학생의 과목별 점수로 사칙연산 수행(시리즈vs시리즈)\n",
    "addition = student1 + student2\n",
    "subtraction = student1 - student2\n",
    "multiplication = student1 * student2\n",
    "division = student1 / student2\n",
    "print(type(division))\n",
    "print('\\n')\n",
    "\n",
    "# 사칙연산 결과를 데이터프레임으로 합치기(시리즈 → 데이터프레임)\n",
    "result = pd.DataFrame([addition, subtraction, multiplication, division], index=['덧셈', '뺄셈', '곱셈', '나눗셈'])\n",
    "print(result)"
   ]
  },
  {
   "cell_type": "code",
   "execution_count": 49,
   "metadata": {},
   "outputs": [
    {
     "name": "stdout",
     "output_type": "stream",
     "text": [
      "국어     NaN\n",
      "영어    80.0\n",
      "수학    90.0\n",
      "dtype: float64\n",
      "\n",
      "\n",
      "수학    80\n",
      "국어    90\n",
      "dtype: int64\n",
      "\n",
      "\n",
      "       국어        수학    영어\n",
      "덧셈   90.0   170.000  80.0\n",
      "뺄셈  -90.0    10.000  80.0\n",
      "곱셈    0.0  7200.000   0.0\n",
      "나눗셈   0.0     1.125   inf\n"
     ]
    }
   ],
   "source": [
    "# 연산 메소드 사용 - 시리즈 연산\n",
    "import pandas as pd\n",
    "import numpy as np\n",
    "\n",
    "# 딕셔너리 데이터로 판다스 시리즈 만들기\n",
    "student1 = pd.Series({'국어':np.nan, '영어':80, '수학':90})\n",
    "student2 = pd.Series({'수학':80, '국어':90})\n",
    "\n",
    "print(student1)\n",
    "print('\\n')\n",
    "print(student2)\n",
    "print('\\n')\n",
    "\n",
    "# 두 학생의 과목별 점수로 사칙연산 수행(연산 메소드 사용)\n",
    "sr_add = student1.add(student2, fill_value=0)\n",
    "sr_sub = student1.sub(student2, fill_value=0)\n",
    "sr_mul = student1.mul(student2, fill_value=0)\n",
    "sr_div = student1.div(student2, fill_value=0)\n",
    "\n",
    "result = pd.DataFrame([sr_add, sr_sub, sr_mul, sr_div], index=['덧셈','뺄셈','곱셈','나눗셈'])\n",
    "print(result)"
   ]
  },
  {
   "cell_type": "markdown",
   "metadata": {},
   "source": [
    "#### 4-2. 데이터프레임 연산\n",
    "* 먼저 행/열 인덱스를 기준으로 정렬하고 일대일 대응되는 원소끼리 연산을 처리한다."
   ]
  },
  {
   "cell_type": "code",
   "execution_count": 52,
   "metadata": {},
   "outputs": [
    {
     "name": "stdout",
     "output_type": "stream",
     "text": [
      "    age     fare\n",
      "0  22.0   7.2500\n",
      "1  38.0  71.2833\n",
      "2  26.0   7.9250\n",
      "3  35.0  53.1000\n",
      "4  35.0   8.0500\n",
      "\n",
      "\n",
      "<class 'pandas.core.frame.DataFrame'>\n",
      "\n",
      "\n",
      "    age     fare\n",
      "0  32.0  17.2500\n",
      "1  48.0  81.2833\n",
      "2  36.0  17.9250\n",
      "3  45.0  63.1000\n",
      "4  45.0  18.0500\n",
      "\n",
      "\n",
      "<class 'pandas.core.frame.DataFrame'>\n"
     ]
    }
   ],
   "source": [
    "# 데이터프레임에 숫자 더하기\n",
    "import pandas as pd\n",
    "import seaborn as sns\n",
    "\n",
    "# titanic 데이터셋에서 age, fare 2개 열을 선택하여 데이터프레임 만들기\n",
    "titanic = sns.load_dataset('titanic')\n",
    "df = titanic.loc[:, ['age','fare']]\n",
    "print(df.head())\n",
    "print('\\n')\n",
    "print(type(df))\n",
    "print('\\n')\n",
    "\n",
    "addition = df+10\n",
    "print(addition.head())\n",
    "print('\\n')\n",
    "print(type(addition))"
   ]
  },
  {
   "cell_type": "code",
   "execution_count": 53,
   "metadata": {},
   "outputs": [
    {
     "name": "stdout",
     "output_type": "stream",
     "text": [
      "      age   fare\n",
      "886  27.0  13.00\n",
      "887  19.0  30.00\n",
      "888   NaN  23.45\n",
      "889  26.0  30.00\n",
      "890  32.0   7.75\n",
      "\n",
      "\n",
      "<class 'pandas.core.frame.DataFrame'>\n",
      "\n",
      "\n",
      "      age   fare\n",
      "886  37.0  23.00\n",
      "887  29.0  40.00\n",
      "888   NaN  33.45\n",
      "889  36.0  40.00\n",
      "890  42.0  17.75\n",
      "\n",
      "\n",
      "<class 'pandas.core.frame.DataFrame'>\n",
      "\n",
      "\n",
      "      age  fare\n",
      "886  10.0  10.0\n",
      "887  10.0  10.0\n",
      "888   NaN  10.0\n",
      "889  10.0  10.0\n",
      "890  10.0  10.0\n",
      "\n",
      "\n",
      "<class 'pandas.core.series.Series'>\n"
     ]
    }
   ],
   "source": [
    "# 데이터프레임끼리 더하기\n",
    "import pandas as pd\n",
    "import seaborn as sns\n",
    "\n",
    "titanic = sns.load_dataset('titanic')\n",
    "df = titanic.loc[:, ['age','fare']]\n",
    "print(df.tail())\n",
    "print('\\n')\n",
    "print(type(df))\n",
    "print('\\n')\n",
    "\n",
    "# 데이터프레임에 숫자 10 더하기\n",
    "addition = df+10\n",
    "print(addition.tail())\n",
    "print('\\n')\n",
    "print(type(addition))\n",
    "print('\\n')\n",
    "\n",
    "# 데이터프레임끼리 연산하기(addition-df)\n",
    "# 덧셈의 결과인 데이터프레임(addition)에서 원래 데이터프레임(df)를 빼면, 숫자 10을 원소로만 갖는 데이터프레임(substraction)이 반환된다.\n",
    "# 단, NaN이 포함된 경우 NaN으로 처리된다.\n",
    "substraction = addition-df\n",
    "print(substraction.tail())\n",
    "print('\\n')\n",
    "print(type(subtraction))"
   ]
  }
 ],
 "metadata": {
  "kernelspec": {
   "display_name": "Python 3",
   "language": "python",
   "name": "python3"
  },
  "language_info": {
   "codemirror_mode": {
    "name": "ipython",
    "version": 3
   },
   "file_extension": ".py",
   "mimetype": "text/x-python",
   "name": "python",
   "nbconvert_exporter": "python",
   "pygments_lexer": "ipython3",
   "version": "3.8.5"
  }
 },
 "nbformat": 4,
 "nbformat_minor": 4
}
